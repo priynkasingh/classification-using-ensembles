{
 "cells": [
  {
   "cell_type": "markdown",
   "id": "4dc6239a",
   "metadata": {
    "papermill": {
     "duration": 0.072138,
     "end_time": "2021-12-01T18:02:16.261868",
     "exception": false,
     "start_time": "2021-12-01T18:02:16.189730",
     "status": "completed"
    },
    "tags": []
   },
   "source": [
    "# Sending out invitations for CharityML Event"
   ]
  },
  {
   "cell_type": "markdown",
   "id": "2473be47",
   "metadata": {
    "papermill": {
     "duration": 0.061124,
     "end_time": "2021-12-01T18:02:16.384655",
     "exception": false,
     "start_time": "2021-12-01T18:02:16.323531",
     "status": "completed"
    },
    "tags": []
   },
   "source": [
    "<div>\n",
    "<img src=\"https://images.unsplash.com/photo-1591522810850-58128c5fb089?ixlib=rb-1.2.1&ixid=MnwxMjA3fDB8MHxwaG90by1wYWdlfHx8fGVufDB8fHx8&auto=format&fit=crop&w=1770&q=80\" width=\"900\" style=\"margin-left:auto; margin-right:auto\"/>\n",
    "</div>"
   ]
  },
  {
   "cell_type": "markdown",
   "id": "d5020207",
   "metadata": {
    "papermill": {
     "duration": 0.074146,
     "end_time": "2021-12-01T18:02:16.588725",
     "exception": false,
     "start_time": "2021-12-01T18:02:16.514579",
     "status": "completed"
    },
    "tags": []
   },
   "source": [
    "# Introduction"
   ]
  },
  {
   "cell_type": "markdown",
   "id": "621c6e28",
   "metadata": {
    "papermill": {
     "duration": 0.060924,
     "end_time": "2021-12-01T18:02:16.710860",
     "exception": false,
     "start_time": "2021-12-01T18:02:16.649936",
     "status": "completed"
    },
    "tags": []
   },
   "source": [
    "In this project, I have applied supervised learning techniques on data collected for the U.S. census to help CharityML (a fictitious charity organization) identify people most likely to donate to their cause. The dataset provides information regarding the education level, occupation, sex, marital status, native origin and working conditions of indivduals to determine if their income is above or below 50,000USD. Folks earning greater than 50,000USD are more likely to donate to CharityML. Sending out select invitations to these people minimizes costs and efforts of the organisation.\n",
    "\n",
    "I have evaluated the data against Naive Bayes, Random Forest Classifier, Bagging Classifier, Decision Tree and Gradient Boosting Classifier. The evaluation metric used for measuring performance is ROC-AUC score. The best performing model is optimised further by tuning the hyperparameters. The ROC-AUC curve is plotted to calculate the optimum threshold value for classification. The test data is processed before making predictions.\n",
    "\n",
    "\n",
    "\n",
    "### The analysis of the data contains the following steps - \n",
    "1. Data Exploration\n",
    "2. Feature Transformation\n",
    "3. Modeling\n",
    "4. Hyperparameter Tuning\n",
    "5. Threshold Selection for Classification\n",
    "5. Processing of Test Data\n",
    "6. Prediction for Test Data & Submission"
   ]
  },
  {
   "cell_type": "markdown",
   "id": "8515cc7b",
   "metadata": {
    "papermill": {
     "duration": 0.060711,
     "end_time": "2021-12-01T18:02:16.832797",
     "exception": false,
     "start_time": "2021-12-01T18:02:16.772086",
     "status": "completed"
    },
    "tags": []
   },
   "source": [
    "### Description of Attributes used in the Dataset\n",
    "\n",
    "- age: continuous.\n",
    "- workclass: Private, Self-emp-not-inc, Self-emp-inc, Federal-gov, Local-gov, State-gov, Without-pay, Never-worked.\n",
    "- education: Bachelors, Some-college, 11th, HS-grad, Prof-school, Assoc-acdm, Assoc-voc, 9th, 7th-8th, 12th, Masters, 1st-4th, 10th, Doctorate, 5th-6th, Preschool.\n",
    "- education-num: continuous.\n",
    "- marital-status: Married-civ-spouse, Divorced, Never-married, Separated, Widowed, Married-spouse-absent, Married-AF-spouse.\n",
    "- occupation: Tech-support, Craft-repair, Other-service, Sales, Exec-managerial, Prof-specialty, Handlers-cleaners, Machine-op-inspct, Adm-clerical, Farming-fishing, Transport-moving, Priv-house-serv, Protective-serv, Armed-Forces.\n",
    "- relationship: Wife, Own-child, Husband, Not-in-family, Other-relative, Unmarried.\n",
    "- race: White, Asian-Pac-Islander, Amer-Indian-Eskimo, Other, Black.\n",
    "- sex: Female, Male.\n",
    "- capital-gain: continuous.\n",
    "- capital-loss: continuous.\n",
    "- hours-per-week: continuous.\n",
    "- native-country: United-States, Cambodia, England, Puerto-Rico, Canada, Germany, Outlying-US(Guam-USVI-etc), India, Japan, Greece, South, China, Cuba, Iran, Honduras, Philippines, Italy, Poland, Jamaica, Vietnam, Mexico, Portugal, Ireland, France, Dominican-Republic, Laos, Ecuador, Taiwan, Haiti, Columbia, Hungary, Guatemala, Nicaragua, Scotland, Thailand, Yugoslavia, El-Salvador, Trinadad&Tobago, Peru, Hong, Holand-Netherlands."
   ]
  },
  {
   "cell_type": "markdown",
   "id": "2dacb300",
   "metadata": {
    "papermill": {
     "duration": 0.061533,
     "end_time": "2021-12-01T18:02:16.956578",
     "exception": false,
     "start_time": "2021-12-01T18:02:16.895045",
     "status": "completed"
    },
    "tags": []
   },
   "source": [
    "*****"
   ]
  },
  {
   "cell_type": "markdown",
   "id": "f2cab5f7",
   "metadata": {
    "papermill": {
     "duration": 0.061112,
     "end_time": "2021-12-01T18:02:17.079117",
     "exception": false,
     "start_time": "2021-12-01T18:02:17.018005",
     "status": "completed"
    },
    "tags": []
   },
   "source": [
    "# Data Exploration"
   ]
  },
  {
   "cell_type": "markdown",
   "id": "f353977c",
   "metadata": {
    "papermill": {
     "duration": 0.061792,
     "end_time": "2021-12-01T18:02:17.348366",
     "exception": false,
     "start_time": "2021-12-01T18:02:17.286574",
     "status": "completed"
    },
    "tags": []
   },
   "source": [
    "The dataset is imported using Pandas and stored in a dataframe. The datatype of each column is checked."
   ]
  },
  {
   "cell_type": "code",
   "execution_count": 1,
   "id": "3a1b125b",
   "metadata": {
    "execution": {
     "iopub.execute_input": "2021-12-01T18:02:17.482788Z",
     "iopub.status.busy": "2021-12-01T18:02:17.481923Z",
     "iopub.status.idle": "2021-12-01T18:02:19.743306Z",
     "shell.execute_reply": "2021-12-01T18:02:19.742629Z",
     "shell.execute_reply.started": "2021-12-01T16:07:50.207246Z"
    },
    "papermill": {
     "duration": 2.333073,
     "end_time": "2021-12-01T18:02:19.743460",
     "exception": false,
     "start_time": "2021-12-01T18:02:17.410387",
     "status": "completed"
    },
    "tags": []
   },
   "outputs": [],
   "source": [
    "import pandas as pd \n",
    "import numpy as np \n",
    "from time import time \n",
    "\n",
    "import seaborn as sns\n",
    "import matplotlib.pyplot as plt\n",
    "%matplotlib inline\n",
    "import matplotlib.patches as mpatches\n",
    "\n",
    "%config InlineBackend.figure_format = 'retina'\n",
    "import warnings\n",
    "warnings.simplefilter(action='ignore',category=FutureWarning)\n",
    "import plotly.express as px"
   ]
  },
  {
   "cell_type": "code",
   "execution_count": 2,
   "id": "621ad30d",
   "metadata": {
    "execution": {
     "iopub.execute_input": "2021-12-01T18:02:19.873570Z",
     "iopub.status.busy": "2021-12-01T18:02:19.872771Z",
     "iopub.status.idle": "2021-12-01T18:02:20.064155Z",
     "shell.execute_reply": "2021-12-01T18:02:20.064684Z",
     "shell.execute_reply.started": "2021-12-01T16:07:52.194577Z"
    },
    "papermill": {
     "duration": 0.259305,
     "end_time": "2021-12-01T18:02:20.064893",
     "exception": false,
     "start_time": "2021-12-01T18:02:19.805588",
     "status": "completed"
    },
    "tags": []
   },
   "outputs": [
    {
     "data": {
      "text/html": [
       "<div>\n",
       "<style scoped>\n",
       "    .dataframe tbody tr th:only-of-type {\n",
       "        vertical-align: middle;\n",
       "    }\n",
       "\n",
       "    .dataframe tbody tr th {\n",
       "        vertical-align: top;\n",
       "    }\n",
       "\n",
       "    .dataframe thead th {\n",
       "        text-align: right;\n",
       "    }\n",
       "</style>\n",
       "<table border=\"1\" class=\"dataframe\">\n",
       "  <thead>\n",
       "    <tr style=\"text-align: right;\">\n",
       "      <th></th>\n",
       "      <th>age</th>\n",
       "      <th>workclass</th>\n",
       "      <th>education_level</th>\n",
       "      <th>education-num</th>\n",
       "      <th>marital-status</th>\n",
       "      <th>occupation</th>\n",
       "      <th>relationship</th>\n",
       "      <th>race</th>\n",
       "      <th>sex</th>\n",
       "      <th>capital-gain</th>\n",
       "      <th>capital-loss</th>\n",
       "      <th>hours-per-week</th>\n",
       "      <th>native-country</th>\n",
       "      <th>income</th>\n",
       "    </tr>\n",
       "  </thead>\n",
       "  <tbody>\n",
       "    <tr>\n",
       "      <th>0</th>\n",
       "      <td>39</td>\n",
       "      <td>State-gov</td>\n",
       "      <td>Bachelors</td>\n",
       "      <td>13.0</td>\n",
       "      <td>Never-married</td>\n",
       "      <td>Adm-clerical</td>\n",
       "      <td>Not-in-family</td>\n",
       "      <td>White</td>\n",
       "      <td>Male</td>\n",
       "      <td>2174.0</td>\n",
       "      <td>0.0</td>\n",
       "      <td>40.0</td>\n",
       "      <td>United-States</td>\n",
       "      <td>&lt;=50K</td>\n",
       "    </tr>\n",
       "    <tr>\n",
       "      <th>1</th>\n",
       "      <td>50</td>\n",
       "      <td>Self-emp-not-inc</td>\n",
       "      <td>Bachelors</td>\n",
       "      <td>13.0</td>\n",
       "      <td>Married-civ-spouse</td>\n",
       "      <td>Exec-managerial</td>\n",
       "      <td>Husband</td>\n",
       "      <td>White</td>\n",
       "      <td>Male</td>\n",
       "      <td>0.0</td>\n",
       "      <td>0.0</td>\n",
       "      <td>13.0</td>\n",
       "      <td>United-States</td>\n",
       "      <td>&lt;=50K</td>\n",
       "    </tr>\n",
       "    <tr>\n",
       "      <th>2</th>\n",
       "      <td>38</td>\n",
       "      <td>Private</td>\n",
       "      <td>HS-grad</td>\n",
       "      <td>9.0</td>\n",
       "      <td>Divorced</td>\n",
       "      <td>Handlers-cleaners</td>\n",
       "      <td>Not-in-family</td>\n",
       "      <td>White</td>\n",
       "      <td>Male</td>\n",
       "      <td>0.0</td>\n",
       "      <td>0.0</td>\n",
       "      <td>40.0</td>\n",
       "      <td>United-States</td>\n",
       "      <td>&lt;=50K</td>\n",
       "    </tr>\n",
       "    <tr>\n",
       "      <th>3</th>\n",
       "      <td>53</td>\n",
       "      <td>Private</td>\n",
       "      <td>11th</td>\n",
       "      <td>7.0</td>\n",
       "      <td>Married-civ-spouse</td>\n",
       "      <td>Handlers-cleaners</td>\n",
       "      <td>Husband</td>\n",
       "      <td>Black</td>\n",
       "      <td>Male</td>\n",
       "      <td>0.0</td>\n",
       "      <td>0.0</td>\n",
       "      <td>40.0</td>\n",
       "      <td>United-States</td>\n",
       "      <td>&lt;=50K</td>\n",
       "    </tr>\n",
       "    <tr>\n",
       "      <th>4</th>\n",
       "      <td>28</td>\n",
       "      <td>Private</td>\n",
       "      <td>Bachelors</td>\n",
       "      <td>13.0</td>\n",
       "      <td>Married-civ-spouse</td>\n",
       "      <td>Prof-specialty</td>\n",
       "      <td>Wife</td>\n",
       "      <td>Black</td>\n",
       "      <td>Female</td>\n",
       "      <td>0.0</td>\n",
       "      <td>0.0</td>\n",
       "      <td>40.0</td>\n",
       "      <td>Cuba</td>\n",
       "      <td>&lt;=50K</td>\n",
       "    </tr>\n",
       "  </tbody>\n",
       "</table>\n",
       "</div>"
      ],
      "text/plain": [
       "   age          workclass education_level  education-num       marital-status  \\\n",
       "0   39          State-gov       Bachelors           13.0        Never-married   \n",
       "1   50   Self-emp-not-inc       Bachelors           13.0   Married-civ-spouse   \n",
       "2   38            Private         HS-grad            9.0             Divorced   \n",
       "3   53            Private            11th            7.0   Married-civ-spouse   \n",
       "4   28            Private       Bachelors           13.0   Married-civ-spouse   \n",
       "\n",
       "           occupation    relationship    race      sex  capital-gain  \\\n",
       "0        Adm-clerical   Not-in-family   White     Male        2174.0   \n",
       "1     Exec-managerial         Husband   White     Male           0.0   \n",
       "2   Handlers-cleaners   Not-in-family   White     Male           0.0   \n",
       "3   Handlers-cleaners         Husband   Black     Male           0.0   \n",
       "4      Prof-specialty            Wife   Black   Female           0.0   \n",
       "\n",
       "   capital-loss  hours-per-week  native-country income  \n",
       "0           0.0            40.0   United-States  <=50K  \n",
       "1           0.0            13.0   United-States  <=50K  \n",
       "2           0.0            40.0   United-States  <=50K  \n",
       "3           0.0            40.0   United-States  <=50K  \n",
       "4           0.0            40.0            Cuba  <=50K  "
      ]
     },
     "execution_count": 2,
     "metadata": {},
     "output_type": "execute_result"
    }
   ],
   "source": [
    "train_data = pd.read_csv('census.csv')\n",
    "data = train_data.copy()\n",
    "data.head()"
   ]
  },
  {
   "cell_type": "code",
   "execution_count": 3,
   "id": "63d41031",
   "metadata": {
    "execution": {
     "iopub.execute_input": "2021-12-01T18:02:20.198660Z",
     "iopub.status.busy": "2021-12-01T18:02:20.197866Z",
     "iopub.status.idle": "2021-12-01T18:02:20.200626Z",
     "shell.execute_reply": "2021-12-01T18:02:20.201129Z",
     "shell.execute_reply.started": "2021-12-01T16:07:52.388853Z"
    },
    "papermill": {
     "duration": 0.072332,
     "end_time": "2021-12-01T18:02:20.201304",
     "exception": false,
     "start_time": "2021-12-01T18:02:20.128972",
     "status": "completed"
    },
    "tags": []
   },
   "outputs": [
    {
     "data": {
      "text/plain": [
       "age                  int64\n",
       "workclass           object\n",
       "education_level     object\n",
       "education-num      float64\n",
       "marital-status      object\n",
       "occupation          object\n",
       "relationship        object\n",
       "race                object\n",
       "sex                 object\n",
       "capital-gain       float64\n",
       "capital-loss       float64\n",
       "hours-per-week     float64\n",
       "native-country      object\n",
       "income              object\n",
       "dtype: object"
      ]
     },
     "execution_count": 3,
     "metadata": {},
     "output_type": "execute_result"
    }
   ],
   "source": [
    "data.dtypes"
   ]
  },
  {
   "cell_type": "code",
   "execution_count": 4,
   "id": "fd5f707b",
   "metadata": {
    "execution": {
     "iopub.execute_input": "2021-12-01T18:02:20.330054Z",
     "iopub.status.busy": "2021-12-01T18:02:20.329358Z",
     "iopub.status.idle": "2021-12-01T18:02:20.382862Z",
     "shell.execute_reply": "2021-12-01T18:02:20.382290Z",
     "shell.execute_reply.started": "2021-12-01T16:07:52.398125Z"
    },
    "papermill": {
     "duration": 0.11881,
     "end_time": "2021-12-01T18:02:20.383015",
     "exception": false,
     "start_time": "2021-12-01T18:02:20.264205",
     "status": "completed"
    },
    "tags": []
   },
   "outputs": [
    {
     "data": {
      "text/plain": [
       "age                0\n",
       "workclass          0\n",
       "education_level    0\n",
       "education-num      0\n",
       "marital-status     0\n",
       "occupation         0\n",
       "relationship       0\n",
       "race               0\n",
       "sex                0\n",
       "capital-gain       0\n",
       "capital-loss       0\n",
       "hours-per-week     0\n",
       "native-country     0\n",
       "income             0\n",
       "dtype: int64"
      ]
     },
     "execution_count": 4,
     "metadata": {},
     "output_type": "execute_result"
    }
   ],
   "source": [
    "#checking for missing values\n",
    "data.isnull().sum()"
   ]
  },
  {
   "cell_type": "markdown",
   "id": "6de55bae",
   "metadata": {
    "papermill": {
     "duration": 0.063759,
     "end_time": "2021-12-01T18:02:20.511261",
     "exception": false,
     "start_time": "2021-12-01T18:02:20.447502",
     "status": "completed"
    },
    "tags": []
   },
   "source": [
    "The training data is checked for missing values. No imputation is required since no data is missing. Exploratory Data Analysis is carried out to understand the attributes in the dataset. \n",
    "Two features are created for this purpose, income_above_50k and income_below_50k. The value 1 for these features indicates their presence."
   ]
  },
  {
   "cell_type": "code",
   "execution_count": 5,
   "id": "c2aaf468",
   "metadata": {
    "execution": {
     "iopub.execute_input": "2021-12-01T18:02:20.648616Z",
     "iopub.status.busy": "2021-12-01T18:02:20.647720Z",
     "iopub.status.idle": "2021-12-01T18:02:20.729043Z",
     "shell.execute_reply": "2021-12-01T18:02:20.729501Z",
     "shell.execute_reply.started": "2021-12-01T16:07:52.430514Z"
    },
    "papermill": {
     "duration": 0.154968,
     "end_time": "2021-12-01T18:02:20.729690",
     "exception": false,
     "start_time": "2021-12-01T18:02:20.574722",
     "status": "completed"
    },
    "tags": []
   },
   "outputs": [
    {
     "data": {
      "text/html": [
       "<div>\n",
       "<style scoped>\n",
       "    .dataframe tbody tr th:only-of-type {\n",
       "        vertical-align: middle;\n",
       "    }\n",
       "\n",
       "    .dataframe tbody tr th {\n",
       "        vertical-align: top;\n",
       "    }\n",
       "\n",
       "    .dataframe thead th {\n",
       "        text-align: right;\n",
       "    }\n",
       "</style>\n",
       "<table border=\"1\" class=\"dataframe\">\n",
       "  <thead>\n",
       "    <tr style=\"text-align: right;\">\n",
       "      <th></th>\n",
       "      <th>age</th>\n",
       "      <th>workclass</th>\n",
       "      <th>education_level</th>\n",
       "      <th>education-num</th>\n",
       "      <th>marital-status</th>\n",
       "      <th>occupation</th>\n",
       "      <th>relationship</th>\n",
       "      <th>race</th>\n",
       "      <th>sex</th>\n",
       "      <th>capital-gain</th>\n",
       "      <th>capital-loss</th>\n",
       "      <th>hours-per-week</th>\n",
       "      <th>native-country</th>\n",
       "      <th>income</th>\n",
       "      <th>income_above_50k</th>\n",
       "      <th>income_below_50k</th>\n",
       "    </tr>\n",
       "  </thead>\n",
       "  <tbody>\n",
       "    <tr>\n",
       "      <th>0</th>\n",
       "      <td>39</td>\n",
       "      <td>State-gov</td>\n",
       "      <td>Bachelors</td>\n",
       "      <td>13.0</td>\n",
       "      <td>Never-married</td>\n",
       "      <td>Adm-clerical</td>\n",
       "      <td>Not-in-family</td>\n",
       "      <td>White</td>\n",
       "      <td>Male</td>\n",
       "      <td>2174.0</td>\n",
       "      <td>0.0</td>\n",
       "      <td>40.0</td>\n",
       "      <td>United-States</td>\n",
       "      <td>&lt;=50K</td>\n",
       "      <td>0</td>\n",
       "      <td>1</td>\n",
       "    </tr>\n",
       "    <tr>\n",
       "      <th>1</th>\n",
       "      <td>50</td>\n",
       "      <td>Self-emp-not-inc</td>\n",
       "      <td>Bachelors</td>\n",
       "      <td>13.0</td>\n",
       "      <td>Married-civ-spouse</td>\n",
       "      <td>Exec-managerial</td>\n",
       "      <td>Husband</td>\n",
       "      <td>White</td>\n",
       "      <td>Male</td>\n",
       "      <td>0.0</td>\n",
       "      <td>0.0</td>\n",
       "      <td>13.0</td>\n",
       "      <td>United-States</td>\n",
       "      <td>&lt;=50K</td>\n",
       "      <td>0</td>\n",
       "      <td>1</td>\n",
       "    </tr>\n",
       "    <tr>\n",
       "      <th>2</th>\n",
       "      <td>38</td>\n",
       "      <td>Private</td>\n",
       "      <td>HS-grad</td>\n",
       "      <td>9.0</td>\n",
       "      <td>Divorced</td>\n",
       "      <td>Handlers-cleaners</td>\n",
       "      <td>Not-in-family</td>\n",
       "      <td>White</td>\n",
       "      <td>Male</td>\n",
       "      <td>0.0</td>\n",
       "      <td>0.0</td>\n",
       "      <td>40.0</td>\n",
       "      <td>United-States</td>\n",
       "      <td>&lt;=50K</td>\n",
       "      <td>0</td>\n",
       "      <td>1</td>\n",
       "    </tr>\n",
       "    <tr>\n",
       "      <th>3</th>\n",
       "      <td>53</td>\n",
       "      <td>Private</td>\n",
       "      <td>11th</td>\n",
       "      <td>7.0</td>\n",
       "      <td>Married-civ-spouse</td>\n",
       "      <td>Handlers-cleaners</td>\n",
       "      <td>Husband</td>\n",
       "      <td>Black</td>\n",
       "      <td>Male</td>\n",
       "      <td>0.0</td>\n",
       "      <td>0.0</td>\n",
       "      <td>40.0</td>\n",
       "      <td>United-States</td>\n",
       "      <td>&lt;=50K</td>\n",
       "      <td>0</td>\n",
       "      <td>1</td>\n",
       "    </tr>\n",
       "    <tr>\n",
       "      <th>4</th>\n",
       "      <td>28</td>\n",
       "      <td>Private</td>\n",
       "      <td>Bachelors</td>\n",
       "      <td>13.0</td>\n",
       "      <td>Married-civ-spouse</td>\n",
       "      <td>Prof-specialty</td>\n",
       "      <td>Wife</td>\n",
       "      <td>Black</td>\n",
       "      <td>Female</td>\n",
       "      <td>0.0</td>\n",
       "      <td>0.0</td>\n",
       "      <td>40.0</td>\n",
       "      <td>Cuba</td>\n",
       "      <td>&lt;=50K</td>\n",
       "      <td>0</td>\n",
       "      <td>1</td>\n",
       "    </tr>\n",
       "  </tbody>\n",
       "</table>\n",
       "</div>"
      ],
      "text/plain": [
       "   age          workclass education_level  education-num       marital-status  \\\n",
       "0   39          State-gov       Bachelors           13.0        Never-married   \n",
       "1   50   Self-emp-not-inc       Bachelors           13.0   Married-civ-spouse   \n",
       "2   38            Private         HS-grad            9.0             Divorced   \n",
       "3   53            Private            11th            7.0   Married-civ-spouse   \n",
       "4   28            Private       Bachelors           13.0   Married-civ-spouse   \n",
       "\n",
       "           occupation    relationship    race      sex  capital-gain  \\\n",
       "0        Adm-clerical   Not-in-family   White     Male        2174.0   \n",
       "1     Exec-managerial         Husband   White     Male           0.0   \n",
       "2   Handlers-cleaners   Not-in-family   White     Male           0.0   \n",
       "3   Handlers-cleaners         Husband   Black     Male           0.0   \n",
       "4      Prof-specialty            Wife   Black   Female           0.0   \n",
       "\n",
       "   capital-loss  hours-per-week  native-country income  income_above_50k  \\\n",
       "0           0.0            40.0   United-States  <=50K                 0   \n",
       "1           0.0            13.0   United-States  <=50K                 0   \n",
       "2           0.0            40.0   United-States  <=50K                 0   \n",
       "3           0.0            40.0   United-States  <=50K                 0   \n",
       "4           0.0            40.0            Cuba  <=50K                 0   \n",
       "\n",
       "   income_below_50k  \n",
       "0                 1  \n",
       "1                 1  \n",
       "2                 1  \n",
       "3                 1  \n",
       "4                 1  "
      ]
     },
     "execution_count": 5,
     "metadata": {},
     "output_type": "execute_result"
    }
   ],
   "source": [
    "#creating features for EDA\n",
    "data['income_above_50k'] = data['income'].apply(lambda x: 1 if x == '>50K' else 0)\n",
    "data['income_below_50k'] = data['income'].apply(lambda x: 1 if x != '>50K' else 0)\n",
    "data.head()"
   ]
  },
  {
   "cell_type": "markdown",
   "id": "011211b9",
   "metadata": {
    "papermill": {
     "duration": 0.063989,
     "end_time": "2021-12-01T18:02:20.857595",
     "exception": false,
     "start_time": "2021-12-01T18:02:20.793606",
     "status": "completed"
    },
    "tags": []
   },
   "source": [
    "### Exploring Categorical Features"
   ]
  },
  {
   "cell_type": "markdown",
   "id": "984ae3f4",
   "metadata": {
    "papermill": {
     "duration": 0.064021,
     "end_time": "2021-12-01T18:02:20.985675",
     "exception": false,
     "start_time": "2021-12-01T18:02:20.921654",
     "status": "completed"
    },
    "tags": []
   },
   "source": [
    "Firstly, the categorical features are explored to draw characteristics of wealthy people."
   ]
  },
  {
   "cell_type": "code",
   "execution_count": 6,
   "id": "37273b27",
   "metadata": {
    "execution": {
     "iopub.execute_input": "2021-12-01T18:02:21.126137Z",
     "iopub.status.busy": "2021-12-01T18:02:21.125401Z",
     "iopub.status.idle": "2021-12-01T18:02:21.163615Z",
     "shell.execute_reply": "2021-12-01T18:02:21.163053Z",
     "shell.execute_reply.started": "2021-12-01T16:07:52.487407Z"
    },
    "papermill": {
     "duration": 0.114204,
     "end_time": "2021-12-01T18:02:21.163771",
     "exception": false,
     "start_time": "2021-12-01T18:02:21.049567",
     "status": "completed"
    },
    "tags": []
   },
   "outputs": [
    {
     "name": "stdout",
     "output_type": "stream",
     "text": [
      "workclass features has 7 categories.\n",
      "education_level features has 16 categories.\n",
      "marital-status features has 7 categories.\n",
      "occupation features has 14 categories.\n",
      "relationship features has 6 categories.\n",
      "race features has 5 categories.\n",
      "sex features has 2 categories.\n",
      "native-country features has 41 categories.\n",
      "income features has 2 categories.\n"
     ]
    }
   ],
   "source": [
    "#categorical variables \n",
    "cat = [cat for cat in data.columns if data[cat].dtype=='object']\n",
    "\n",
    "def cat_features(df,col):\n",
    "    print(col + \" features has \" + str(df[col].nunique()) + \" categories.\")\n",
    "    \n",
    "for col in cat:\n",
    "    cat_features(data,col)"
   ]
  },
  {
   "cell_type": "code",
   "execution_count": 7,
   "id": "fd8ba6ed",
   "metadata": {
    "execution": {
     "iopub.execute_input": "2021-12-01T18:02:21.300978Z",
     "iopub.status.busy": "2021-12-01T18:02:21.300250Z",
     "iopub.status.idle": "2021-12-01T18:02:22.294342Z",
     "shell.execute_reply": "2021-12-01T18:02:22.293748Z",
     "shell.execute_reply.started": "2021-12-01T16:07:52.52695Z"
    },
    "papermill": {
     "duration": 1.065515,
     "end_time": "2021-12-01T18:02:22.294689",
     "exception": false,
     "start_time": "2021-12-01T18:02:21.229174",
     "status": "completed"
    },
    "tags": []
   },
   "outputs": [
    {
     "data": {
      "image/png": "[encoded data removed]"
     },
     "metadata": {},
     "output_type": "display_data"
    }
   ],
   "source": [
    "#distribution of the target class\n",
    "df = data[['income_above_50k','income_below_50k']].sum().to_frame()\n",
    "df.reset_index(inplace=True)\n",
    "df.columns = ['target_class','count']\n",
    "fig=px.bar(df,x='target_class',y='count', title='Distribution of Target Class', height = 500, width = 450)\n",
    "fig.show(renderer='png')"
   ]
  },
  {
   "cell_type": "markdown",
   "id": "9353903a",
   "metadata": {
    "papermill": {
     "duration": 0.065441,
     "end_time": "2021-12-01T18:02:22.425947",
     "exception": false,
     "start_time": "2021-12-01T18:02:22.360506",
     "status": "completed"
    },
    "tags": []
   },
   "source": [
    "It is evident from the dataset that there is a unequal distribution of the target class. About 25% of population have income above $50,000. "
   ]
  },
  {
   "cell_type": "code",
   "execution_count": 8,
   "id": "ca175a89",
   "metadata": {
    "execution": {
     "iopub.execute_input": "2021-12-01T18:02:22.570795Z",
     "iopub.status.busy": "2021-12-01T18:02:22.569780Z",
     "iopub.status.idle": "2021-12-01T18:02:22.657337Z",
     "shell.execute_reply": "2021-12-01T18:02:22.656775Z",
     "shell.execute_reply.started": "2021-12-01T16:07:53.531473Z"
    },
    "papermill": {
     "duration": 0.164124,
     "end_time": "2021-12-01T18:02:22.657503",
     "exception": false,
     "start_time": "2021-12-01T18:02:22.493379",
     "status": "completed"
    },
    "tags": []
   },
   "outputs": [
    {
     "data": {
      "image/png": "[encoded data removed]"
     },
     "metadata": {},
     "output_type": "display_data"
    }
   ],
   "source": [
    "#workclass\n",
    "df = data.groupby(by='workclass')['income_above_50k','income_below_50k'].sum()\n",
    "df.reset_index(inplace=True)\n",
    "fig = px.bar(df.sort_values(by='income_below_50k'), y='workclass',x=['income_below_50k','income_above_50k'], title=\"Workclass Distribution\",height=380)\n",
    "fig.update_layout(xaxis_title=\"count\")\n",
    "fig.show(renderer='png')"
   ]
  },
  {
   "cell_type": "markdown",
   "id": "786670f7",
   "metadata": {
    "papermill": {
     "duration": 0.065739,
     "end_time": "2021-12-01T18:02:22.789865",
     "exception": false,
     "start_time": "2021-12-01T18:02:22.724126",
     "status": "completed"
    },
    "tags": []
   },
   "source": [
    "Most people work in the Private sector. The private sector also indicates a high presence of wealthy people."
   ]
  },
  {
   "cell_type": "code",
   "execution_count": 9,
   "id": "55519dec",
   "metadata": {
    "execution": {
     "iopub.execute_input": "2021-12-01T18:02:22.932545Z",
     "iopub.status.busy": "2021-12-01T18:02:22.931776Z",
     "iopub.status.idle": "2021-12-01T18:02:23.008603Z",
     "shell.execute_reply": "2021-12-01T18:02:23.008069Z",
     "shell.execute_reply.started": "2021-12-01T16:07:53.634652Z"
    },
    "papermill": {
     "duration": 0.152196,
     "end_time": "2021-12-01T18:02:23.008752",
     "exception": false,
     "start_time": "2021-12-01T18:02:22.856556",
     "status": "completed"
    },
    "tags": []
   },
   "outputs": [
    {
     "data": {
      "image/png": "[encoded data removed]"
     },
     "metadata": {},
     "output_type": "display_data"
    }
   ],
   "source": [
    "#education_level\n",
    "df = data.groupby(by='education_level')['income_above_50k','income_below_50k'].sum()\n",
    "df.reset_index(inplace=True)\n",
    "fig = px.bar(df.sort_values(by='income_below_50k'), y='education_level',x=['income_below_50k','income_above_50k'], title=\"Education_level Distribution\")\n",
    "fig.update_layout(xaxis_title=\"count\")\n",
    "fig.show(renderer='png')"
   ]
  },
  {
   "cell_type": "markdown",
   "id": "05ae74ef",
   "metadata": {
    "papermill": {
     "duration": 0.066979,
     "end_time": "2021-12-01T18:02:23.143178",
     "exception": false,
     "start_time": "2021-12-01T18:02:23.076199",
     "status": "completed"
    },
    "tags": []
   },
   "source": [
    "Looking at the distribution of education-level, it can be concluded that most wealthy people hold a college or higher level of degree."
   ]
  },
  {
   "cell_type": "code",
   "execution_count": 10,
   "id": "5bd78a28",
   "metadata": {
    "execution": {
     "iopub.execute_input": "2021-12-01T18:02:23.288610Z",
     "iopub.status.busy": "2021-12-01T18:02:23.280137Z",
     "iopub.status.idle": "2021-12-01T18:02:23.364458Z",
     "shell.execute_reply": "2021-12-01T18:02:23.363945Z",
     "shell.execute_reply.started": "2021-12-01T16:07:53.713157Z"
    },
    "papermill": {
     "duration": 0.154587,
     "end_time": "2021-12-01T18:02:23.364618",
     "exception": false,
     "start_time": "2021-12-01T18:02:23.210031",
     "status": "completed"
    },
    "tags": []
   },
   "outputs": [
    {
     "data": {
      "image/png": "[encoded data removed]"
     },
     "metadata": {},
     "output_type": "display_data"
    }
   ],
   "source": [
    "#marital status\n",
    "df = data.groupby(by='marital-status')['income_above_50k','income_below_50k'].sum()\n",
    "df.reset_index(inplace=True)\n",
    "fig = px.bar(df.sort_values(by='income_below_50k'), y='marital-status',x=['income_below_50k','income_above_50k'], title=\"marital-status Distribution\", height=380)\n",
    "fig.update_layout(xaxis_title=\"count\")\n",
    "fig.show(renderer='png')"
   ]
  },
  {
   "cell_type": "markdown",
   "id": "b0cfa4de",
   "metadata": {
    "papermill": {
     "duration": 0.067799,
     "end_time": "2021-12-01T18:02:23.501027",
     "exception": false,
     "start_time": "2021-12-01T18:02:23.433228",
     "status": "completed"
    },
    "tags": []
   },
   "source": [
    "Most wealthy people have a civilian spouse."
   ]
  },
  {
   "cell_type": "code",
   "execution_count": 11,
   "id": "9ceb18e4",
   "metadata": {
    "execution": {
     "iopub.execute_input": "2021-12-01T18:02:23.646076Z",
     "iopub.status.busy": "2021-12-01T18:02:23.645311Z",
     "iopub.status.idle": "2021-12-01T18:02:23.724113Z",
     "shell.execute_reply": "2021-12-01T18:02:23.723518Z",
     "shell.execute_reply.started": "2021-12-01T16:07:53.795063Z"
    },
    "papermill": {
     "duration": 0.15557,
     "end_time": "2021-12-01T18:02:23.724265",
     "exception": false,
     "start_time": "2021-12-01T18:02:23.568695",
     "status": "completed"
    },
    "tags": []
   },
   "outputs": [
    {
     "data": {
      "image/png": "[encoded data removed]"
     },
     "metadata": {},
     "output_type": "display_data"
    }
   ],
   "source": [
    "#occupation\n",
    "df = data.groupby(by='occupation')['income_above_50k','income_below_50k'].sum()\n",
    "df.reset_index(inplace=True)\n",
    "fig = px.bar(df.sort_values(by='income_below_50k'), y='occupation',x=['income_below_50k','income_above_50k'], title=\"occupation Distribution\")\n",
    "fig.update_layout(xaxis_title=\"count\")\n",
    "fig.show(renderer='png')"
   ]
  },
  {
   "cell_type": "markdown",
   "id": "b50f7e91",
   "metadata": {
    "papermill": {
     "duration": 0.068138,
     "end_time": "2021-12-01T18:02:23.861754",
     "exception": false,
     "start_time": "2021-12-01T18:02:23.793616",
     "status": "completed"
    },
    "tags": []
   },
   "source": [
    "The plot above shows the distribution of wealthy people in different occupations."
   ]
  },
  {
   "cell_type": "code",
   "execution_count": 12,
   "id": "64668050",
   "metadata": {
    "execution": {
     "iopub.execute_input": "2021-12-01T18:02:24.008462Z",
     "iopub.status.busy": "2021-12-01T18:02:24.007702Z",
     "iopub.status.idle": "2021-12-01T18:02:24.086372Z",
     "shell.execute_reply": "2021-12-01T18:02:24.085669Z",
     "shell.execute_reply.started": "2021-12-01T16:07:53.875931Z"
    },
    "papermill": {
     "duration": 0.156383,
     "end_time": "2021-12-01T18:02:24.086518",
     "exception": false,
     "start_time": "2021-12-01T18:02:23.930135",
     "status": "completed"
    },
    "tags": []
   },
   "outputs": [
    {
     "data": {
      "image/png": "[encoded data removed]"
     },
     "metadata": {},
     "output_type": "display_data"
    }
   ],
   "source": [
    "#race \n",
    "df = data.groupby(by='race')['income_above_50k','income_below_50k'].sum()\n",
    "df.reset_index(inplace=True)\n",
    "fig = px.bar(df.sort_values(by='income_below_50k'), y='race',x=['income_below_50k','income_above_50k'], title=\"race Distribution\", height=380)\n",
    "fig.update_layout(xaxis_title=\"count\")\n",
    "fig.show(renderer='png')"
   ]
  },
  {
   "cell_type": "code",
   "execution_count": 13,
   "id": "51996651",
   "metadata": {
    "execution": {
     "iopub.execute_input": "2021-12-01T18:02:24.230878Z",
     "iopub.status.busy": "2021-12-01T18:02:24.230181Z",
     "iopub.status.idle": "2021-12-01T18:02:24.311683Z",
     "shell.execute_reply": "2021-12-01T18:02:24.312297Z",
     "shell.execute_reply.started": "2021-12-01T16:07:53.956673Z"
    },
    "papermill": {
     "duration": 0.155295,
     "end_time": "2021-12-01T18:02:24.312498",
     "exception": false,
     "start_time": "2021-12-01T18:02:24.157203",
     "status": "completed"
    },
    "tags": []
   },
   "outputs": [
    {
     "data": {
      "image/png": "[encoded data removed]"
     },
     "metadata": {},
     "output_type": "display_data"
    }
   ],
   "source": [
    "#sex \n",
    "df = data.groupby(by='sex')['income_above_50k','income_below_50k'].sum()\n",
    "df.reset_index(inplace=True)\n",
    "fig = px.bar(df.sort_values(by='income_below_50k'), x='sex',y=['income_below_50k','income_above_50k'], title=\"sex Distribution\", height=500, width=500)\n",
    "fig.update_layout(yaxis_title=\"count\")\n",
    "fig.show(renderer='png')"
   ]
  },
  {
   "cell_type": "markdown",
   "id": "440977b5",
   "metadata": {
    "papermill": {
     "duration": 0.071193,
     "end_time": "2021-12-01T18:02:24.453505",
     "exception": false,
     "start_time": "2021-12-01T18:02:24.382312",
     "status": "completed"
    },
    "tags": []
   },
   "source": [
    "The males constitute a greater proportion of wealthy people.\n",
    "So it can be summarized that a wealthy person may have these characteristics - he is a white male college graduate with a job in the private sector and marries to a civilian spouse."
   ]
  },
  {
   "cell_type": "code",
   "execution_count": 14,
   "id": "4f138920",
   "metadata": {
    "execution": {
     "iopub.execute_input": "2021-12-01T18:02:24.604107Z",
     "iopub.status.busy": "2021-12-01T18:02:24.603415Z",
     "iopub.status.idle": "2021-12-01T18:02:24.619833Z",
     "shell.execute_reply": "2021-12-01T18:02:24.620368Z",
     "shell.execute_reply.started": "2021-12-01T16:07:54.038719Z"
    },
    "papermill": {
     "duration": 0.089279,
     "end_time": "2021-12-01T18:02:24.620578",
     "exception": false,
     "start_time": "2021-12-01T18:02:24.531299",
     "status": "completed"
    },
    "tags": []
   },
   "outputs": [],
   "source": [
    "#dropping features income_above_50k and income_below_50k\n",
    "data.drop(['income_above_50k'], axis = 1,inplace =True)\n",
    "data.drop(['income_below_50k'], axis = 1,inplace =True)"
   ]
  },
  {
   "cell_type": "markdown",
   "id": "b860e0cd",
   "metadata": {
    "papermill": {
     "duration": 0.069369,
     "end_time": "2021-12-01T18:02:24.759679",
     "exception": false,
     "start_time": "2021-12-01T18:02:24.690310",
     "status": "completed"
    },
    "tags": []
   },
   "source": [
    "### Exploring Numerical Features "
   ]
  },
  {
   "cell_type": "markdown",
   "id": "352e8a0a",
   "metadata": {
    "papermill": {
     "duration": 0.071048,
     "end_time": "2021-12-01T18:02:24.901207",
     "exception": false,
     "start_time": "2021-12-01T18:02:24.830159",
     "status": "completed"
    },
    "tags": []
   },
   "source": [
    "To understand the distribution of continuous numerical attributes, we plot histograms for each of them."
   ]
  },
  {
   "cell_type": "code",
   "execution_count": 15,
   "id": "c36b686f",
   "metadata": {
    "execution": {
     "iopub.execute_input": "2021-12-01T18:02:25.047804Z",
     "iopub.status.busy": "2021-12-01T18:02:25.047107Z",
     "iopub.status.idle": "2021-12-01T18:02:26.251302Z",
     "shell.execute_reply": "2021-12-01T18:02:26.251833Z",
     "shell.execute_reply.started": "2021-12-01T16:07:54.062308Z"
    },
    "papermill": {
     "duration": 1.278039,
     "end_time": "2021-12-01T18:02:26.252006",
     "exception": false,
     "start_time": "2021-12-01T18:02:24.973967",
     "status": "completed"
    },
    "tags": []
   },
   "outputs": [
    {
     "data": {
      "text/plain": [
       "Text(0.5, 1.0, 'Distribution of Working hours per Week')"
      ]
     },
     "execution_count": 15,
     "metadata": {},
     "output_type": "execute_result"
    },
    {
     "data": {
      "image/png": "[encoded data removed]",
      "text/plain": [
       "<Figure size 1080x864 with 5 Axes>"
      ]
     },
     "metadata": {
      "image/png": {
       "height": 468,
       "width": 890
      },
      "needs_background": "light"
     },
     "output_type": "display_data"
    }
   ],
   "source": [
    "plt.figure(figsize=(15,12))\n",
    "\n",
    "plt.subplot(3,3,1)\n",
    "plt.hist(data['age'])\n",
    "plt.title('Distribution of Age')\n",
    "\n",
    "plt.subplot(3,3,2)\n",
    "plt.hist(data['education-num'])\n",
    "plt.title('Distribution of Education Years')\n",
    "\n",
    "plt.subplot(3,3,3)\n",
    "plt.hist(data['capital-gain'])\n",
    "plt.xlim([0, 22000])\n",
    "plt.ylim([0, 50000])\n",
    "plt.title('Distribution of Capital Gains')\n",
    "\n",
    "plt.subplot(3,3,4)\n",
    "plt.hist(data['capital-loss'], bins = 5)\n",
    "plt.xlim([0, 4000])\n",
    "plt.title('Distribution of Capital Losses')\n",
    "\n",
    "plt.subplot(3,3,5)\n",
    "plt.hist(data['hours-per-week'])\n",
    "plt.title('Distribution of Working hours per Week')\n"
   ]
  },
  {
   "cell_type": "code",
   "execution_count": 16,
   "id": "53d79a06",
   "metadata": {
    "execution": {
     "iopub.execute_input": "2021-12-01T18:02:26.404390Z",
     "iopub.status.busy": "2021-12-01T18:02:26.403649Z",
     "iopub.status.idle": "2021-12-01T18:02:26.880592Z",
     "shell.execute_reply": "2021-12-01T18:02:26.881127Z",
     "shell.execute_reply.started": "2021-12-01T16:07:55.229266Z"
    },
    "papermill": {
     "duration": 0.555561,
     "end_time": "2021-12-01T18:02:26.881303",
     "exception": false,
     "start_time": "2021-12-01T18:02:26.325742",
     "status": "completed"
    },
    "tags": []
   },
   "outputs": [
    {
     "data": {
      "image/png": "[encoded data removed]"
     },
     "metadata": {},
     "output_type": "display_data"
    }
   ],
   "source": [
    "#Relation between education years and education Level\n",
    "fig = px.box(data.sort_values(by='education-num', ascending = False), x=\"education_level\", y=\"education-num\",width=1000, height=400)\n",
    "fig.show(renderer='png')"
   ]
  },
  {
   "cell_type": "markdown",
   "id": "5735f58b",
   "metadata": {
    "papermill": {
     "duration": 0.089149,
     "end_time": "2021-12-01T18:02:27.060902",
     "exception": false,
     "start_time": "2021-12-01T18:02:26.971753",
     "status": "completed"
    },
    "tags": []
   },
   "source": [
    "Since every education level corresponds to the number of education year, these features are essentially the same. Education level can be dropped. education_num represents education_level when label encoded."
   ]
  },
  {
   "cell_type": "markdown",
   "id": "57ef805c",
   "metadata": {
    "papermill": {
     "duration": 0.089434,
     "end_time": "2021-12-01T18:02:27.241060",
     "exception": false,
     "start_time": "2021-12-01T18:02:27.151626",
     "status": "completed"
    },
    "tags": []
   },
   "source": [
    "Education level attribute is dropped as discussed. The target variable - income is spearate from the rest of the dataset."
   ]
  },
  {
   "cell_type": "code",
   "execution_count": 17,
   "id": "3f700038",
   "metadata": {
    "execution": {
     "iopub.execute_input": "2021-12-01T18:02:27.424359Z",
     "iopub.status.busy": "2021-12-01T18:02:27.423673Z",
     "iopub.status.idle": "2021-12-01T18:02:27.431700Z",
     "shell.execute_reply": "2021-12-01T18:02:27.432227Z",
     "shell.execute_reply.started": "2021-12-01T16:07:55.583091Z"
    },
    "papermill": {
     "duration": 0.10132,
     "end_time": "2021-12-01T18:02:27.432402",
     "exception": false,
     "start_time": "2021-12-01T18:02:27.331082",
     "status": "completed"
    },
    "tags": []
   },
   "outputs": [],
   "source": [
    "#education level and number of education years represent the same quantity. \n",
    "#Dropping education level, number of education years represents education level when label encoded. \n",
    "data.drop(['education_level'], axis = 1,inplace =True)"
   ]
  },
  {
   "cell_type": "code",
   "execution_count": 18,
   "id": "985cbb2b",
   "metadata": {
    "execution": {
     "iopub.execute_input": "2021-12-01T18:02:27.638128Z",
     "iopub.status.busy": "2021-12-01T18:02:27.637176Z",
     "iopub.status.idle": "2021-12-01T18:02:27.673706Z",
     "shell.execute_reply": "2021-12-01T18:02:27.674327Z",
     "shell.execute_reply.started": "2021-12-01T16:07:55.593091Z"
    },
    "papermill": {
     "duration": 0.139347,
     "end_time": "2021-12-01T18:02:27.674516",
     "exception": false,
     "start_time": "2021-12-01T18:02:27.535169",
     "status": "completed"
    },
    "tags": []
   },
   "outputs": [],
   "source": [
    "#encoding income attribute to 1 for income above 50k. Storing target series in a separate variable\n",
    "data['income'] = data['income'].apply(lambda x: 1 if x == '>50K' else 0 )\n",
    "target = data['income']\n",
    "data.drop(['income'],axis=1,inplace=True)"
   ]
  },
  {
   "cell_type": "markdown",
   "id": "dca2e92e",
   "metadata": {
    "papermill": {
     "duration": 0.091159,
     "end_time": "2021-12-01T18:02:27.856209",
     "exception": false,
     "start_time": "2021-12-01T18:02:27.765050",
     "status": "completed"
    },
    "tags": []
   },
   "source": [
    "*****"
   ]
  },
  {
   "cell_type": "markdown",
   "id": "2a656c96",
   "metadata": {
    "papermill": {
     "duration": 0.089949,
     "end_time": "2021-12-01T18:02:28.036305",
     "exception": false,
     "start_time": "2021-12-01T18:02:27.946356",
     "status": "completed"
    },
    "tags": []
   },
   "source": [
    "# Feature Transformation"
   ]
  },
  {
   "cell_type": "markdown",
   "id": "339f76e8",
   "metadata": {
    "papermill": {
     "duration": 0.090595,
     "end_time": "2021-12-01T18:02:28.218245",
     "exception": false,
     "start_time": "2021-12-01T18:02:28.127650",
     "status": "completed"
    },
    "tags": []
   },
   "source": [
    "Capital Losses and Capital Gains have a very skewed distribution. \n",
    "We perform log normalisation on these skewed features. The numerical features are also scaled using Min-Max scaler. \n",
    "Further the categorical variables are encoded using one-hot encoding to convert them into numerical features."
   ]
  },
  {
   "cell_type": "code",
   "execution_count": 19,
   "id": "59208d1e",
   "metadata": {
    "execution": {
     "iopub.execute_input": "2021-12-01T18:02:28.407181Z",
     "iopub.status.busy": "2021-12-01T18:02:28.406124Z",
     "iopub.status.idle": "2021-12-01T18:02:28.795383Z",
     "shell.execute_reply": "2021-12-01T18:02:28.795935Z",
     "shell.execute_reply.started": "2021-12-01T16:07:55.629968Z"
    },
    "papermill": {
     "duration": 0.488235,
     "end_time": "2021-12-01T18:02:28.796116",
     "exception": false,
     "start_time": "2021-12-01T18:02:28.307881",
     "status": "completed"
    },
    "tags": []
   },
   "outputs": [
    {
     "data": {
      "text/html": [
       "<div>\n",
       "<style scoped>\n",
       "    .dataframe tbody tr th:only-of-type {\n",
       "        vertical-align: middle;\n",
       "    }\n",
       "\n",
       "    .dataframe tbody tr th {\n",
       "        vertical-align: top;\n",
       "    }\n",
       "\n",
       "    .dataframe thead th {\n",
       "        text-align: right;\n",
       "    }\n",
       "</style>\n",
       "<table border=\"1\" class=\"dataframe\">\n",
       "  <thead>\n",
       "    <tr style=\"text-align: right;\">\n",
       "      <th></th>\n",
       "      <th>age</th>\n",
       "      <th>education-num</th>\n",
       "      <th>capital-gain</th>\n",
       "      <th>capital-loss</th>\n",
       "      <th>hours-per-week</th>\n",
       "      <th>workclass_ Local-gov</th>\n",
       "      <th>workclass_ Private</th>\n",
       "      <th>workclass_ Self-emp-inc</th>\n",
       "      <th>workclass_ Self-emp-not-inc</th>\n",
       "      <th>workclass_ State-gov</th>\n",
       "      <th>...</th>\n",
       "      <th>native-country_ Portugal</th>\n",
       "      <th>native-country_ Puerto-Rico</th>\n",
       "      <th>native-country_ Scotland</th>\n",
       "      <th>native-country_ South</th>\n",
       "      <th>native-country_ Taiwan</th>\n",
       "      <th>native-country_ Thailand</th>\n",
       "      <th>native-country_ Trinadad&amp;Tobago</th>\n",
       "      <th>native-country_ United-States</th>\n",
       "      <th>native-country_ Vietnam</th>\n",
       "      <th>native-country_ Yugoslavia</th>\n",
       "    </tr>\n",
       "  </thead>\n",
       "  <tbody>\n",
       "    <tr>\n",
       "      <th>0</th>\n",
       "      <td>0.301370</td>\n",
       "      <td>0.800000</td>\n",
       "      <td>0.667492</td>\n",
       "      <td>0.0</td>\n",
       "      <td>0.397959</td>\n",
       "      <td>0</td>\n",
       "      <td>0</td>\n",
       "      <td>0</td>\n",
       "      <td>0</td>\n",
       "      <td>1</td>\n",
       "      <td>...</td>\n",
       "      <td>0</td>\n",
       "      <td>0</td>\n",
       "      <td>0</td>\n",
       "      <td>0</td>\n",
       "      <td>0</td>\n",
       "      <td>0</td>\n",
       "      <td>0</td>\n",
       "      <td>1</td>\n",
       "      <td>0</td>\n",
       "      <td>0</td>\n",
       "    </tr>\n",
       "    <tr>\n",
       "      <th>1</th>\n",
       "      <td>0.452055</td>\n",
       "      <td>0.800000</td>\n",
       "      <td>0.000000</td>\n",
       "      <td>0.0</td>\n",
       "      <td>0.122449</td>\n",
       "      <td>0</td>\n",
       "      <td>0</td>\n",
       "      <td>0</td>\n",
       "      <td>1</td>\n",
       "      <td>0</td>\n",
       "      <td>...</td>\n",
       "      <td>0</td>\n",
       "      <td>0</td>\n",
       "      <td>0</td>\n",
       "      <td>0</td>\n",
       "      <td>0</td>\n",
       "      <td>0</td>\n",
       "      <td>0</td>\n",
       "      <td>1</td>\n",
       "      <td>0</td>\n",
       "      <td>0</td>\n",
       "    </tr>\n",
       "    <tr>\n",
       "      <th>2</th>\n",
       "      <td>0.287671</td>\n",
       "      <td>0.533333</td>\n",
       "      <td>0.000000</td>\n",
       "      <td>0.0</td>\n",
       "      <td>0.397959</td>\n",
       "      <td>0</td>\n",
       "      <td>1</td>\n",
       "      <td>0</td>\n",
       "      <td>0</td>\n",
       "      <td>0</td>\n",
       "      <td>...</td>\n",
       "      <td>0</td>\n",
       "      <td>0</td>\n",
       "      <td>0</td>\n",
       "      <td>0</td>\n",
       "      <td>0</td>\n",
       "      <td>0</td>\n",
       "      <td>0</td>\n",
       "      <td>1</td>\n",
       "      <td>0</td>\n",
       "      <td>0</td>\n",
       "    </tr>\n",
       "    <tr>\n",
       "      <th>3</th>\n",
       "      <td>0.493151</td>\n",
       "      <td>0.400000</td>\n",
       "      <td>0.000000</td>\n",
       "      <td>0.0</td>\n",
       "      <td>0.397959</td>\n",
       "      <td>0</td>\n",
       "      <td>1</td>\n",
       "      <td>0</td>\n",
       "      <td>0</td>\n",
       "      <td>0</td>\n",
       "      <td>...</td>\n",
       "      <td>0</td>\n",
       "      <td>0</td>\n",
       "      <td>0</td>\n",
       "      <td>0</td>\n",
       "      <td>0</td>\n",
       "      <td>0</td>\n",
       "      <td>0</td>\n",
       "      <td>1</td>\n",
       "      <td>0</td>\n",
       "      <td>0</td>\n",
       "    </tr>\n",
       "    <tr>\n",
       "      <th>4</th>\n",
       "      <td>0.150685</td>\n",
       "      <td>0.800000</td>\n",
       "      <td>0.000000</td>\n",
       "      <td>0.0</td>\n",
       "      <td>0.397959</td>\n",
       "      <td>0</td>\n",
       "      <td>1</td>\n",
       "      <td>0</td>\n",
       "      <td>0</td>\n",
       "      <td>0</td>\n",
       "      <td>...</td>\n",
       "      <td>0</td>\n",
       "      <td>0</td>\n",
       "      <td>0</td>\n",
       "      <td>0</td>\n",
       "      <td>0</td>\n",
       "      <td>0</td>\n",
       "      <td>0</td>\n",
       "      <td>0</td>\n",
       "      <td>0</td>\n",
       "      <td>0</td>\n",
       "    </tr>\n",
       "  </tbody>\n",
       "</table>\n",
       "<p>5 rows × 80 columns</p>\n",
       "</div>"
      ],
      "text/plain": [
       "        age  education-num  capital-gain  capital-loss  hours-per-week  \\\n",
       "0  0.301370       0.800000      0.667492           0.0        0.397959   \n",
       "1  0.452055       0.800000      0.000000           0.0        0.122449   \n",
       "2  0.287671       0.533333      0.000000           0.0        0.397959   \n",
       "3  0.493151       0.400000      0.000000           0.0        0.397959   \n",
       "4  0.150685       0.800000      0.000000           0.0        0.397959   \n",
       "\n",
       "   workclass_ Local-gov  workclass_ Private  workclass_ Self-emp-inc  \\\n",
       "0                     0                   0                        0   \n",
       "1                     0                   0                        0   \n",
       "2                     0                   1                        0   \n",
       "3                     0                   1                        0   \n",
       "4                     0                   1                        0   \n",
       "\n",
       "   workclass_ Self-emp-not-inc  workclass_ State-gov  ...  \\\n",
       "0                            0                     1  ...   \n",
       "1                            1                     0  ...   \n",
       "2                            0                     0  ...   \n",
       "3                            0                     0  ...   \n",
       "4                            0                     0  ...   \n",
       "\n",
       "   native-country_ Portugal  native-country_ Puerto-Rico  \\\n",
       "0                         0                            0   \n",
       "1                         0                            0   \n",
       "2                         0                            0   \n",
       "3                         0                            0   \n",
       "4                         0                            0   \n",
       "\n",
       "   native-country_ Scotland  native-country_ South  native-country_ Taiwan  \\\n",
       "0                         0                      0                       0   \n",
       "1                         0                      0                       0   \n",
       "2                         0                      0                       0   \n",
       "3                         0                      0                       0   \n",
       "4                         0                      0                       0   \n",
       "\n",
       "   native-country_ Thailand  native-country_ Trinadad&Tobago  \\\n",
       "0                         0                                0   \n",
       "1                         0                                0   \n",
       "2                         0                                0   \n",
       "3                         0                                0   \n",
       "4                         0                                0   \n",
       "\n",
       "   native-country_ United-States  native-country_ Vietnam  \\\n",
       "0                              1                        0   \n",
       "1                              1                        0   \n",
       "2                              1                        0   \n",
       "3                              1                        0   \n",
       "4                              0                        0   \n",
       "\n",
       "   native-country_ Yugoslavia  \n",
       "0                           0  \n",
       "1                           0  \n",
       "2                           0  \n",
       "3                           0  \n",
       "4                           0  \n",
       "\n",
       "[5 rows x 80 columns]"
      ]
     },
     "execution_count": 19,
     "metadata": {},
     "output_type": "execute_result"
    }
   ],
   "source": [
    "#prcoessing numberical features \n",
    "#transforming skewed continous features - capital gain and capital losses \n",
    "\n",
    "data['capital-gain']=data['capital-gain'].apply(lambda x: np.log(x+1))\n",
    "data['capital-loss']=data['capital-loss'].apply(lambda x: np.log(x+1))\n",
    "\n",
    "#scaling numerical features so that all features are treated equally by the model\n",
    "scale_features = ['age','education-num','capital-gain','capital-loss','hours-per-week']\n",
    "from sklearn.preprocessing import MinMaxScaler\n",
    "scaler = MinMaxScaler()\n",
    "data[scale_features] = scaler.fit_transform(data[scale_features])\n",
    "\n",
    "#one hot encoding fot categorical features\n",
    "encoded_features = ['workclass','marital-status','occupation','relationship','race','sex','native-country']\n",
    "data = pd.get_dummies(data,columns = encoded_features ,prefix = encoded_features, drop_first=True)\n",
    "data.head()"
   ]
  },
  {
   "cell_type": "code",
   "execution_count": 20,
   "id": "f2eff453",
   "metadata": {
    "execution": {
     "iopub.execute_input": "2021-12-01T18:02:28.985041Z",
     "iopub.status.busy": "2021-12-01T18:02:28.984312Z",
     "iopub.status.idle": "2021-12-01T18:02:28.987410Z",
     "shell.execute_reply": "2021-12-01T18:02:28.988096Z",
     "shell.execute_reply.started": "2021-12-01T16:07:55.921061Z"
    },
    "papermill": {
     "duration": 0.100278,
     "end_time": "2021-12-01T18:02:28.988277",
     "exception": false,
     "start_time": "2021-12-01T18:02:28.887999",
     "status": "completed"
    },
    "tags": []
   },
   "outputs": [],
   "source": [
    "# #function for feature processing for a given data set\n",
    "# def process_df(df, scale_features,encoded_features):\n",
    "#     df.drop(['education_level'], axis =1, inplace=True)\n",
    "#     df['capital-gain']=df['capital-gain'].apply(lambda x: np.log(x+1))\n",
    "#     df['capital-loss']=df['capital-loss'].apply(lambda x: np.log(x+1))\n",
    "#     df[scale_features] = scaler.transform(df[scale_features])\n",
    "#     df = pd.get_dummies(df,columns = encoded_features ,prefix = encoded_features, drop_first=True)\n",
    "#     return df     "
   ]
  },
  {
   "cell_type": "markdown",
   "id": "bfc8e343",
   "metadata": {
    "papermill": {
     "duration": 0.093421,
     "end_time": "2021-12-01T18:02:29.173162",
     "exception": false,
     "start_time": "2021-12-01T18:02:29.079741",
     "status": "completed"
    },
    "tags": []
   },
   "source": [
    "*****"
   ]
  },
  {
   "cell_type": "markdown",
   "id": "08c4ceac",
   "metadata": {
    "papermill": {
     "duration": 0.091296,
     "end_time": "2021-12-01T18:02:29.355704",
     "exception": false,
     "start_time": "2021-12-01T18:02:29.264408",
     "status": "completed"
    },
    "tags": []
   },
   "source": [
    "# Modeling "
   ]
  },
  {
   "cell_type": "markdown",
   "id": "7b36186e",
   "metadata": {
    "papermill": {
     "duration": 0.091903,
     "end_time": "2021-12-01T18:02:29.541002",
     "exception": false,
     "start_time": "2021-12-01T18:02:29.449099",
     "status": "completed"
    },
    "tags": []
   },
   "source": [
    "Before applying any machine learning model to the dataset, we use a dummy classifier to establish a baseline accuracy and ROC-AUC score. The dummy classifier predicts the majority class label for every datapoint. On applying any machine learning alogorithm, the classification should improve, so should the accuracy and ROC-AUC score."
   ]
  },
  {
   "cell_type": "code",
   "execution_count": 21,
   "id": "dfc3d413",
   "metadata": {
    "execution": {
     "iopub.execute_input": "2021-12-01T18:02:29.726030Z",
     "iopub.status.busy": "2021-12-01T18:02:29.725333Z",
     "iopub.status.idle": "2021-12-01T18:02:29.806177Z",
     "shell.execute_reply": "2021-12-01T18:02:29.806699Z",
     "shell.execute_reply.started": "2021-12-01T16:07:55.925918Z"
    },
    "papermill": {
     "duration": 0.175169,
     "end_time": "2021-12-01T18:02:29.806892",
     "exception": false,
     "start_time": "2021-12-01T18:02:29.631723",
     "status": "completed"
    },
    "tags": []
   },
   "outputs": [
    {
     "name": "stdout",
     "output_type": "stream",
     "text": [
      "Accuracy Score:  0.7521560302507629\n",
      "F1 Score:  0.0\n",
      "ROC-AUC Score:  0.5\n"
     ]
    }
   ],
   "source": [
    "#baseline model and evaluation of base line model\n",
    "from sklearn.dummy import DummyClassifier\n",
    "from sklearn.metrics import accuracy_score\n",
    "from sklearn.metrics import f1_score\n",
    "from sklearn.metrics import roc_auc_score\n",
    "\n",
    "dummyClassifier = DummyClassifier(strategy=\"most_frequent\")\n",
    "dummyClassifier.fit(data,target)\n",
    "pred = dummyClassifier.predict(data)\n",
    "print(\"Accuracy Score: \",accuracy_score(target,pred))\n",
    "print(\"F1 Score: \",f1_score(target,pred))\n",
    "print(\"ROC-AUC Score: \", roc_auc_score(target,pred))"
   ]
  },
  {
   "cell_type": "markdown",
   "id": "c1aa169f",
   "metadata": {
    "papermill": {
     "duration": 0.090785,
     "end_time": "2021-12-01T18:02:29.990994",
     "exception": false,
     "start_time": "2021-12-01T18:02:29.900209",
     "status": "completed"
    },
    "tags": []
   },
   "source": [
    "The current ROC-AUC score is 0.5, indicating that the dummy classifier is unable to distinguish between positive and negative groups."
   ]
  },
  {
   "cell_type": "markdown",
   "id": "db384c1e",
   "metadata": {
    "papermill": {
     "duration": 0.091416,
     "end_time": "2021-12-01T18:02:30.174158",
     "exception": false,
     "start_time": "2021-12-01T18:02:30.082742",
     "status": "completed"
    },
    "tags": []
   },
   "source": [
    "### Train-Test Split"
   ]
  },
  {
   "cell_type": "markdown",
   "id": "0c82923c",
   "metadata": {
    "papermill": {
     "duration": 0.09057,
     "end_time": "2021-12-01T18:02:30.356193",
     "exception": false,
     "start_time": "2021-12-01T18:02:30.265623",
     "status": "completed"
    },
    "tags": []
   },
   "source": [
    "The dataset is divided into training and validation sets using train-test split. The size of the testing sample is 20% of the entire dataset."
   ]
  },
  {
   "cell_type": "code",
   "execution_count": 22,
   "id": "7980ade3",
   "metadata": {
    "execution": {
     "iopub.execute_input": "2021-12-01T18:02:30.546060Z",
     "iopub.status.busy": "2021-12-01T18:02:30.545378Z",
     "iopub.status.idle": "2021-12-01T18:02:30.574707Z",
     "shell.execute_reply": "2021-12-01T18:02:30.575237Z",
     "shell.execute_reply.started": "2021-12-01T16:07:56.010928Z"
    },
    "papermill": {
     "duration": 0.127146,
     "end_time": "2021-12-01T18:02:30.575413",
     "exception": false,
     "start_time": "2021-12-01T18:02:30.448267",
     "status": "completed"
    },
    "tags": []
   },
   "outputs": [
    {
     "name": "stdout",
     "output_type": "stream",
     "text": [
      "Training set has 36177 samples\n",
      "Testing set has 9045 samples\n"
     ]
    }
   ],
   "source": [
    "from sklearn.model_selection import train_test_split\n",
    "\n",
    "x_train,x_val,y_train,y_val = train_test_split(data,target,test_size=0.2,random_state=42)\n",
    "print(\"Training set has {} samples\".format(x_train.shape[0]))\n",
    "print(\"Testing set has {} samples\".format(x_val.shape[0]))"
   ]
  },
  {
   "cell_type": "markdown",
   "id": "8614ffa0",
   "metadata": {
    "papermill": {
     "duration": 0.090943,
     "end_time": "2021-12-01T18:02:30.757517",
     "exception": false,
     "start_time": "2021-12-01T18:02:30.666574",
     "status": "completed"
    },
    "tags": []
   },
   "source": [
    "A generic function evaluate_model is written to evaluate the performance of a given model in terms of training time, prediction time, ROC-AUC score of training and testing set. The results of these models can be compared visually using the compare_model method."
   ]
  },
  {
   "cell_type": "code",
   "execution_count": 23,
   "id": "a96c0fc4",
   "metadata": {
    "execution": {
     "iopub.execute_input": "2021-12-01T18:02:30.945325Z",
     "iopub.status.busy": "2021-12-01T18:02:30.944638Z",
     "iopub.status.idle": "2021-12-01T18:02:30.950970Z",
     "shell.execute_reply": "2021-12-01T18:02:30.951538Z",
     "shell.execute_reply.started": "2021-12-01T16:07:56.049112Z"
    },
    "papermill": {
     "duration": 0.101518,
     "end_time": "2021-12-01T18:02:30.951712",
     "exception": false,
     "start_time": "2021-12-01T18:02:30.850194",
     "status": "completed"
    },
    "tags": []
   },
   "outputs": [],
   "source": [
    "from sklearn.metrics import roc_auc_score\n",
    "\n",
    "def evaluate_model(model,x_train,x_test,y_train,y_test):\n",
    "    results = {}\n",
    "    \n",
    "    start = time()\n",
    "    model.fit(x_train,y_train)\n",
    "    end = time()\n",
    "    \n",
    "    results['train_time'] = end - start \n",
    "    \n",
    "    start = time()\n",
    "    test_pred = model.predict(x_test)\n",
    "    train_pred = model.predict(x_train[:300])\n",
    "    end = time()\n",
    "    \n",
    "    results['pred_time'] = end - start \n",
    "    \n",
    "    results['roc_train'] = roc_auc_score(y_train[:300],train_pred)\n",
    "    \n",
    "    results['roc_test'] = roc_auc_score(y_test,test_pred)\n",
    "    \n",
    "    return results"
   ]
  },
  {
   "cell_type": "code",
   "execution_count": 24,
   "id": "e00276c8",
   "metadata": {
    "execution": {
     "iopub.execute_input": "2021-12-01T18:02:31.139921Z",
     "iopub.status.busy": "2021-12-01T18:02:31.139196Z",
     "iopub.status.idle": "2021-12-01T18:02:31.150633Z",
     "shell.execute_reply": "2021-12-01T18:02:31.151191Z",
     "shell.execute_reply.started": "2021-12-01T16:07:56.057364Z"
    },
    "papermill": {
     "duration": 0.107666,
     "end_time": "2021-12-01T18:02:31.151365",
     "exception": false,
     "start_time": "2021-12-01T18:02:31.043699",
     "status": "completed"
    },
    "tags": []
   },
   "outputs": [],
   "source": [
    "def compare_model(results):\n",
    "    \n",
    "    fig, axes = plt.subplots(2,2,figsize=(18,10))\n",
    "    \n",
    "    colour = ['rosybrown','lightcoral','indianred','brown','maroon']\n",
    "    \n",
    "    for i,model in enumerate(results.keys()):\n",
    "        for j, metric in enumerate(['train_time','pred_time','roc_train','roc_test']):\n",
    "            \n",
    "            axes[j//2,j%2].bar(i,results[model][metric],color = colour[i])\n",
    "            \n",
    "    #setting y labels\n",
    "    axes[0,0].set_ylabel(\"Time in sec\")\n",
    "    axes[0,1].set_ylabel(\"Time in sec\")\n",
    "    axes[1,0].set_ylabel(\"ROC-AUC score\")\n",
    "    axes[1,1].set_ylabel(\"ROC-AUC score\")\n",
    "    \n",
    "    #setting titles \n",
    "    axes[0,0].set_title(\"Model Training\")\n",
    "    axes[0,1].set_title(\"Model Prediction\")\n",
    "    axes[1,0].set_title(\"ROC-AUC for Training Set\")\n",
    "    axes[1,1].set_title(\"ROC-AUC for Test Set\")\n",
    "    \n",
    "    axes[1,0].set_ylim((0,1))\n",
    "    axes[1,1].set_ylim((0,1))\n",
    "    \n",
    "    patches = []\n",
    "    for i, model in enumerate(results.keys()):\n",
    "        patches.append(mpatches.Patch(color = colour[i], label = model))\n",
    "    axes[0, 0].legend(handles = patches)\n",
    "    \n",
    "    \n",
    "    plt.suptitle(\"Performance Metrics for Supervised Learning Models\", fontsize = 16, y = 1.10)\n",
    "    plt.tight_layout()\n",
    "    plt.show()"
   ]
  },
  {
   "cell_type": "markdown",
   "id": "7b2c14a7",
   "metadata": {
    "papermill": {
     "duration": 0.091388,
     "end_time": "2021-12-01T18:02:31.334216",
     "exception": false,
     "start_time": "2021-12-01T18:02:31.242828",
     "status": "completed"
    },
    "tags": []
   },
   "source": [
    "### Applying Machine Learning Models"
   ]
  },
  {
   "cell_type": "markdown",
   "id": "23c16396",
   "metadata": {
    "papermill": {
     "duration": 0.091788,
     "end_time": "2021-12-01T18:02:31.556985",
     "exception": false,
     "start_time": "2021-12-01T18:02:31.465197",
     "status": "completed"
    },
    "tags": []
   },
   "source": [
    "For the purpose of classification with 80 attributes, 5 models were used for prediction - Naive Bayes, Decision Tree Classifier, Graident Boosting Classifier, Random Forest Classifier and Bagging Classifier.\n",
    "\n",
    "This is decided keeping in mind the size of the dataset. Ensemble methods (Random Forest, Gradient Boosting, Bagging Classifier) tend to perform better in case of non-linear data. These models reduce variance and run efficiently on large datasets. Time for training can be large while fitting multiple estimators. \n",
    "Naive Bayes performs well with categorical data. The correlation between features however can affect its performance. \n",
    "\n",
    "I have not considered other classification algorithms such as K-Nearest Neighbours (slow in predicting for a dataset with large number of attributes) and logistic regression (Absence of linear correlation between features).\n",
    "\n",
    "n_estimators in tree based algorithms is considered 100 for now"
   ]
  },
  {
   "cell_type": "code",
   "execution_count": 25,
   "id": "1c169b6a",
   "metadata": {
    "execution": {
     "iopub.execute_input": "2021-12-01T18:02:31.743419Z",
     "iopub.status.busy": "2021-12-01T18:02:31.742759Z",
     "iopub.status.idle": "2021-12-01T18:03:07.070340Z",
     "shell.execute_reply": "2021-12-01T18:03:07.070921Z",
     "shell.execute_reply.started": "2021-12-01T16:07:56.071783Z"
    },
    "papermill": {
     "duration": 35.422551,
     "end_time": "2021-12-01T18:03:07.071127",
     "exception": false,
     "start_time": "2021-12-01T18:02:31.648576",
     "status": "completed"
    },
    "tags": []
   },
   "outputs": [
    {
     "data": {
      "image/png": "[encoded data removed]",
      "text/plain": [
       "<Figure size 1296x720 with 4 Axes>"
      ]
     },
     "metadata": {
      "image/png": {
       "height": 795,
       "width": 1288
      },
      "needs_background": "light"
     },
     "output_type": "display_data"
    }
   ],
   "source": [
    "#importing models for machine learning \n",
    "\n",
    "from sklearn.naive_bayes import GaussianNB\n",
    "from sklearn.tree import DecisionTreeClassifier\n",
    "from sklearn.ensemble import GradientBoostingClassifier\n",
    "from sklearn.ensemble import RandomForestClassifier\n",
    "from sklearn.ensemble import BaggingClassifier\n",
    "\n",
    "random_state = 1\n",
    "n_estimators = 100 \n",
    "\n",
    "clf1 = GaussianNB()\n",
    "clf2 = DecisionTreeClassifier()\n",
    "clf3 = RandomForestClassifier(random_state = random_state, n_estimators = n_estimators)\n",
    "clf4 = BaggingClassifier(random_state = random_state, n_estimators = n_estimators)\n",
    "clf5 = GradientBoostingClassifier(random_state = random_state, n_estimators = n_estimators)\n",
    "\n",
    "results = {}\n",
    "for clf in [clf1,clf2,clf3,clf4,clf5]:\n",
    "    clf_name = clf.__class__.__name__\n",
    "    results[clf_name] = evaluate_model(clf,x_train,x_val,y_train,y_val)\n",
    "\n",
    "compare_model(results)"
   ]
  },
  {
   "cell_type": "markdown",
   "id": "6a4e7ec4",
   "metadata": {
    "papermill": {
     "duration": 0.094956,
     "end_time": "2021-12-01T18:03:07.261548",
     "exception": false,
     "start_time": "2021-12-01T18:03:07.166592",
     "status": "completed"
    },
    "tags": []
   },
   "source": [
    "Looking at the performance of the different supervised learning models it is evident that Gradient Boosting Classifier is the best performing alogrithm given its high ROC-AUC score on the test data and comparitively lesser model training and prediction time. Gradient Boosting Classifier is further tuned to improve performance over test dataset."
   ]
  },
  {
   "cell_type": "markdown",
   "id": "fa3a414c",
   "metadata": {
    "papermill": {
     "duration": 0.094979,
     "end_time": "2021-12-01T18:03:07.453070",
     "exception": false,
     "start_time": "2021-12-01T18:03:07.358091",
     "status": "completed"
    },
    "tags": []
   },
   "source": [
    "******"
   ]
  },
  {
   "cell_type": "markdown",
   "id": "265c1a7f",
   "metadata": {
    "papermill": {
     "duration": 0.095088,
     "end_time": "2021-12-01T18:03:07.644967",
     "exception": false,
     "start_time": "2021-12-01T18:03:07.549879",
     "status": "completed"
    },
    "tags": []
   },
   "source": [
    "# Hyperparameter Tuning"
   ]
  },
  {
   "cell_type": "markdown",
   "id": "b1cb6ad4",
   "metadata": {
    "papermill": {
     "duration": 0.094549,
     "end_time": "2021-12-01T18:03:07.834092",
     "exception": false,
     "start_time": "2021-12-01T18:03:07.739543",
     "status": "completed"
    },
    "tags": []
   },
   "source": [
    "I have tuned for the following parameters in Gradient Boosting Classifier using Grid Search Cross Validation:\n",
    "1. n_estimators \n",
    "2. learning_rate\n",
    "3. min_sample_split\n",
    "4. min_sample_leaf\n",
    "5. max_depth \n",
    "6. subsample\n",
    "\n",
    "Firstly, all parameters except the n_estimators is kept constant for the Gradient Boosting Classifier."
   ]
  },
  {
   "cell_type": "code",
   "execution_count": 26,
   "id": "0e0cd82d",
   "metadata": {
    "execution": {
     "iopub.execute_input": "2021-12-01T18:03:08.028629Z",
     "iopub.status.busy": "2021-12-01T18:03:08.027588Z",
     "iopub.status.idle": "2021-12-01T18:04:34.962452Z",
     "shell.execute_reply": "2021-12-01T18:04:34.961921Z",
     "shell.execute_reply.started": "2021-12-01T16:08:36.051261Z"
    },
    "papermill": {
     "duration": 87.033759,
     "end_time": "2021-12-01T18:04:34.962591",
     "exception": false,
     "start_time": "2021-12-01T18:03:07.928832",
     "status": "completed"
    },
    "tags": []
   },
   "outputs": [
    {
     "name": "stdout",
     "output_type": "stream",
     "text": [
      "Fitting 5 folds for each of 5 candidates, totalling 25 fits\n",
      "For unoptimized model ----------\n",
      "The ROC-AUC score on validation data is 0.7821233119541044\n",
      "\n",
      "\n",
      "For optimized model ----------\n",
      "The ROC-AUC score on validation data is 0.8022208076836305\n",
      "The ROC-AUC score on training data is 0.8589548452562151\n",
      "\n",
      "-------------\n",
      "The parameters for optimized model are :  {'learning_rate': 0.2, 'max_depth': 8, 'min_samples_leaf': 50, 'min_samples_split': 500, 'n_estimators': 80, 'subsample': 0.8}\n"
     ]
    }
   ],
   "source": [
    "#hyperparameter tuning for gradient boosting classifier \n",
    "\n",
    "#finding the number of estimators\n",
    "from sklearn.metrics import make_scorer \n",
    "from sklearn.model_selection import GridSearchCV\n",
    "\n",
    "clf = GradientBoostingClassifier(random_state = random_state)\n",
    "\n",
    "parameters = {\n",
    "    'n_estimators' : range(20,101,20),\n",
    "    'learning_rate' : [0.2],\n",
    "    'min_samples_split': [500],\n",
    "    'min_samples_leaf' : [50],\n",
    "    'max_depth': [8],\n",
    "    'subsample': [0.8] \n",
    "}\n",
    "\n",
    "scorer = make_scorer(roc_auc_score)\n",
    "\n",
    "grid_cv = GridSearchCV(clf,param_grid=parameters,scoring=scorer,verbose = 1, n_jobs = -1)\n",
    "grid_fit = grid_cv.fit(x_train,y_train)\n",
    "\n",
    "best_clf = grid_fit.best_estimator_\n",
    "\n",
    "predictions = clf.fit(x_train,y_train).predict(x_val)\n",
    "best_pred_val = best_clf.predict(x_val)\n",
    "best_pred_train = best_clf.predict(x_train[:300])\n",
    "\n",
    "print(\"For unoptimized model ----------\")\n",
    "print(\"The ROC-AUC score on validation data is {}\".format(roc_auc_score(y_val,predictions)))\n",
    "print(\"\")\n",
    "print(\"\")\n",
    "\n",
    "\n",
    "print(\"For optimized model ----------\")\n",
    "print(\"The ROC-AUC score on validation data is {}\".format(roc_auc_score(y_val,best_pred_val)))\n",
    "print(\"The ROC-AUC score on training data is {}\".format(roc_auc_score(y_train[:300],best_pred_train)))\n",
    "print(\"\")\n",
    "print(\"-------------\")\n",
    "print(\"The parameters for optimized model are : \", grid_cv.best_params_)"
   ]
  },
  {
   "cell_type": "markdown",
   "id": "bc12a61b",
   "metadata": {
    "papermill": {
     "duration": 0.096184,
     "end_time": "2021-12-01T18:04:35.155800",
     "exception": false,
     "start_time": "2021-12-01T18:04:35.059616",
     "status": "completed"
    },
    "tags": []
   },
   "source": [
    "On optimizing the number of estimators to 80 in the classifier, the ROC-AUC score has increased from 0.78 to 0.802."
   ]
  },
  {
   "cell_type": "markdown",
   "id": "9ed97136",
   "metadata": {
    "papermill": {
     "duration": 0.095532,
     "end_time": "2021-12-01T18:04:35.346833",
     "exception": false,
     "start_time": "2021-12-01T18:04:35.251301",
     "status": "completed"
    },
    "tags": []
   },
   "source": [
    "Keeping the n_estimators fixed at 80, the model is tuned for min_samples_split and max_depth."
   ]
  },
  {
   "cell_type": "code",
   "execution_count": 27,
   "id": "d4ca9fb4",
   "metadata": {
    "execution": {
     "iopub.execute_input": "2021-12-01T18:04:35.548209Z",
     "iopub.status.busy": "2021-12-01T18:04:35.547463Z",
     "iopub.status.idle": "2021-12-01T18:11:22.173507Z",
     "shell.execute_reply": "2021-12-01T18:11:22.172962Z",
     "shell.execute_reply.started": "2021-12-01T16:10:11.577592Z"
    },
    "papermill": {
     "duration": 406.731002,
     "end_time": "2021-12-01T18:11:22.173672",
     "exception": false,
     "start_time": "2021-12-01T18:04:35.442670",
     "status": "completed"
    },
    "tags": []
   },
   "outputs": [
    {
     "name": "stdout",
     "output_type": "stream",
     "text": [
      "Fitting 5 folds for each of 30 candidates, totalling 150 fits\n",
      "For optimized model ----------\n",
      "The ROC-AUC score on validation data is 0.8000768685338576\n",
      "The ROC-AUC score on training data is 0.8566717402333841\n",
      "\n",
      "-------------\n",
      "The parameters for optimized model are :  {'learning_rate': 0.2, 'max_depth': 6, 'min_samples_leaf': 50, 'min_samples_split': 100, 'n_estimators': 80, 'subsample': 0.8}\n"
     ]
    }
   ],
   "source": [
    "#finding the min_sample_split and depth\n",
    "\n",
    "clf = GradientBoostingClassifier(random_state = random_state)\n",
    "\n",
    "parameters = {\n",
    "    'n_estimators' : [80],\n",
    "    'learning_rate' : [0.2],\n",
    "    'min_samples_split': range(100,601,100),\n",
    "    'min_samples_leaf' : [50],\n",
    "    'max_depth': range(2,12,2),\n",
    "    'subsample': [0.8] \n",
    "}\n",
    "\n",
    "scorer = make_scorer(roc_auc_score)\n",
    "\n",
    "grid_cv = GridSearchCV(clf,param_grid=parameters,scoring=scorer,verbose = 1, n_jobs = -1)\n",
    "grid_fit = grid_cv.fit(x_train,y_train)\n",
    "\n",
    "best_clf = grid_fit.best_estimator_\n",
    "\n",
    "best_pred_val = best_clf.predict(x_val)\n",
    "best_pred_train = best_clf.predict(x_train[:300])\n",
    "\n",
    "print(\"For optimized model ----------\")\n",
    "print(\"The ROC-AUC score on validation data is {}\".format(roc_auc_score(y_val,best_pred_val)))\n",
    "print(\"The ROC-AUC score on training data is {}\".format(roc_auc_score(y_train[:300],best_pred_train)))\n",
    "print(\"\")\n",
    "print(\"-------------\")\n",
    "print(\"The parameters for optimized model are : \", grid_cv.best_params_)"
   ]
  },
  {
   "cell_type": "markdown",
   "id": "de14482e",
   "metadata": {
    "papermill": {
     "duration": 0.097561,
     "end_time": "2021-12-01T18:11:22.370389",
     "exception": false,
     "start_time": "2021-12-01T18:11:22.272828",
     "status": "completed"
    },
    "tags": []
   },
   "source": [
    "The optimal max_depth is 6 and min_sample_split is 100. The ROC-AUC is similar. The min_samples_leaf is further tuned."
   ]
  },
  {
   "cell_type": "code",
   "execution_count": 28,
   "id": "0491951a",
   "metadata": {
    "execution": {
     "iopub.execute_input": "2021-12-01T18:11:22.576919Z",
     "iopub.status.busy": "2021-12-01T18:11:22.576223Z",
     "iopub.status.idle": "2021-12-01T18:13:08.116350Z",
     "shell.execute_reply": "2021-12-01T18:13:08.115770Z",
     "shell.execute_reply.started": "2021-12-01T16:17:33.370565Z"
    },
    "papermill": {
     "duration": 105.647309,
     "end_time": "2021-12-01T18:13:08.116527",
     "exception": false,
     "start_time": "2021-12-01T18:11:22.469218",
     "status": "completed"
    },
    "tags": []
   },
   "outputs": [
    {
     "name": "stdout",
     "output_type": "stream",
     "text": [
      "Fitting 5 folds for each of 7 candidates, totalling 35 fits\n",
      "For optimized model ----------\n",
      "The ROC-AUC score on validation data is 0.8000768685338576\n",
      "The ROC-AUC score on training data is 0.8566717402333841\n",
      "\n",
      "-------------\n",
      "The parameters for optimized model are :  {'learning_rate': 0.2, 'max_depth': 6, 'min_samples_leaf': 50, 'min_samples_split': 100, 'n_estimators': 80, 'subsample': 0.8}\n"
     ]
    }
   ],
   "source": [
    "#finding the min_samples_leaf\n",
    "\n",
    "clf = GradientBoostingClassifier(random_state = random_state)\n",
    "\n",
    "parameters = {\n",
    "    'n_estimators' : [80],\n",
    "    'learning_rate' : [0.2],\n",
    "    'min_samples_split': [100],\n",
    "    'min_samples_leaf' : range(20,81,10),\n",
    "    'max_depth': [6],\n",
    "    'subsample': [0.8] \n",
    "}\n",
    "\n",
    "scorer = make_scorer(roc_auc_score)\n",
    "\n",
    "grid_cv = GridSearchCV(clf,param_grid=parameters,scoring=scorer,verbose = 1, n_jobs = -1)\n",
    "grid_fit = grid_cv.fit(x_train,y_train)\n",
    "\n",
    "best_clf = grid_fit.best_estimator_\n",
    "\n",
    "best_pred_val = best_clf.predict(x_val)\n",
    "best_pred_train = best_clf.predict(x_train[:300])\n",
    "\n",
    "print(\"For optimized model ----------\")\n",
    "print(\"The ROC-AUC score on validation data is {}\".format(roc_auc_score(y_val,best_pred_val)))\n",
    "print(\"The ROC-AUC score on training data is {}\".format(roc_auc_score(y_train[:300],best_pred_train)))\n",
    "print(\"\")\n",
    "print(\"-------------\")\n",
    "print(\"The parameters for optimized model are : \", grid_cv.best_params_)"
   ]
  },
  {
   "cell_type": "markdown",
   "id": "07dab19d",
   "metadata": {
    "papermill": {
     "duration": 0.098415,
     "end_time": "2021-12-01T18:13:08.313851",
     "exception": false,
     "start_time": "2021-12-01T18:13:08.215436",
     "status": "completed"
    },
    "tags": []
   },
   "source": [
    "The model is then tuned for the optimum subsample."
   ]
  },
  {
   "cell_type": "code",
   "execution_count": 29,
   "id": "d07c9e3d",
   "metadata": {
    "execution": {
     "iopub.execute_input": "2021-12-01T18:13:08.520470Z",
     "iopub.status.busy": "2021-12-01T18:13:08.514701Z",
     "iopub.status.idle": "2021-12-01T18:14:28.823591Z",
     "shell.execute_reply": "2021-12-01T18:14:28.823003Z",
     "shell.execute_reply.started": "2021-12-01T16:19:24.867306Z"
    },
    "papermill": {
     "duration": 80.410964,
     "end_time": "2021-12-01T18:14:28.823751",
     "exception": false,
     "start_time": "2021-12-01T18:13:08.412787",
     "status": "completed"
    },
    "tags": []
   },
   "outputs": [
    {
     "name": "stdout",
     "output_type": "stream",
     "text": [
      "Fitting 5 folds for each of 5 candidates, totalling 25 fits\n",
      "For optimized model ----------\n",
      "The ROC-AUC score on validation data is 0.8000768685338576\n",
      "The ROC-AUC score on training data is 0.8566717402333841\n",
      "\n",
      "-------------\n",
      "The parameters for optimized model are :  {'learning_rate': 0.2, 'max_depth': 6, 'min_samples_leaf': 50, 'min_samples_split': 100, 'n_estimators': 80, 'subsample': 0.8}\n"
     ]
    }
   ],
   "source": [
    "#finding the subsample\n",
    "\n",
    "clf = GradientBoostingClassifier(random_state = random_state)\n",
    "\n",
    "parameters = {\n",
    "    'n_estimators' : [80],\n",
    "    'learning_rate' : [0.2],\n",
    "    'min_samples_split': [100],\n",
    "    'min_samples_leaf' : [50],\n",
    "    'max_depth': [6],\n",
    "    'subsample': [0.7,0.75,0.8,0.85,0.9] \n",
    "}\n",
    "\n",
    "scorer = make_scorer(roc_auc_score)\n",
    "\n",
    "grid_cv = GridSearchCV(clf,param_grid=parameters,scoring=scorer,verbose = 1, n_jobs = -1)\n",
    "grid_fit = grid_cv.fit(x_train,y_train)\n",
    "\n",
    "best_clf = grid_fit.best_estimator_\n",
    "\n",
    "best_pred_val = best_clf.predict(x_val)\n",
    "best_pred_train = best_clf.predict(x_train[:300])\n",
    "\n",
    "print(\"For optimized model ----------\")\n",
    "print(\"The ROC-AUC score on validation data is {}\".format(roc_auc_score(y_val,best_pred_val)))\n",
    "print(\"The ROC-AUC score on training data is {}\".format(roc_auc_score(y_train[:300],best_pred_train)))\n",
    "print(\"\")\n",
    "print(\"-------------\")\n",
    "print(\"The parameters for optimized model are : \", grid_cv.best_params_)"
   ]
  },
  {
   "cell_type": "markdown",
   "id": "1b682b60",
   "metadata": {
    "papermill": {
     "duration": 0.102576,
     "end_time": "2021-12-01T18:14:29.028781",
     "exception": false,
     "start_time": "2021-12-01T18:14:28.926205",
     "status": "completed"
    },
    "tags": []
   },
   "source": [
    "After finding the optimum hyperparamters, the learning rate is tuned. The learning rate is inversely proportional to n_estimators. On decreasing the learning rate, the n_estimators also has to tuned for higher values. "
   ]
  },
  {
   "cell_type": "code",
   "execution_count": 30,
   "id": "37e9c1a6",
   "metadata": {
    "execution": {
     "iopub.execute_input": "2021-12-01T18:14:29.235419Z",
     "iopub.status.busy": "2021-12-01T18:14:29.234669Z",
     "iopub.status.idle": "2021-12-01T18:29:56.503315Z",
     "shell.execute_reply": "2021-12-01T18:29:56.502614Z",
     "shell.execute_reply.started": "2021-12-01T16:20:49.107326Z"
    },
    "papermill": {
     "duration": 927.371963,
     "end_time": "2021-12-01T18:29:56.503480",
     "exception": false,
     "start_time": "2021-12-01T18:14:29.131517",
     "status": "completed"
    },
    "tags": []
   },
   "outputs": [
    {
     "name": "stdout",
     "output_type": "stream",
     "text": [
      "Fitting 5 folds for each of 24 candidates, totalling 120 fits\n",
      "For optimized model ----------\n",
      "The ROC-AUC score on validation data is 0.8022457859283849\n",
      "The ROC-AUC score on training data is 0.854388635210553\n",
      "\n",
      "-------------\n",
      "The parameters for optimized model are :  {'learning_rate': 0.1, 'max_depth': 6, 'min_samples_leaf': 50, 'min_samples_split': 100, 'n_estimators': 280, 'subsample': 0.8}\n"
     ]
    }
   ],
   "source": [
    "#finding the learning rate \n",
    "\n",
    "clf = GradientBoostingClassifier(random_state = random_state)\n",
    "\n",
    "parameters = {\n",
    "    'n_estimators' : range(80,400,40),\n",
    "    'learning_rate' : [0.05,0.1,0.2],\n",
    "    'min_samples_split': [100],\n",
    "    'min_samples_leaf' : [50],\n",
    "    'max_depth': [6],\n",
    "    'subsample': [0.8] \n",
    "}\n",
    "\n",
    "scorer = make_scorer(roc_auc_score)\n",
    "\n",
    "grid_cv = GridSearchCV(clf,param_grid=parameters,scoring=scorer,verbose = 1, n_jobs = -1)\n",
    "grid_fit = grid_cv.fit(x_train,y_train)\n",
    "\n",
    "best_clf = grid_fit.best_estimator_\n",
    "\n",
    "best_pred_val = best_clf.predict(x_val)\n",
    "best_pred_train = best_clf.predict(x_train[:300])\n",
    "\n",
    "print(\"For optimized model ----------\")\n",
    "print(\"The ROC-AUC score on validation data is {}\".format(roc_auc_score(y_val,best_pred_val)))\n",
    "print(\"The ROC-AUC score on training data is {}\".format(roc_auc_score(y_train[:300],best_pred_train)))\n",
    "print(\"\")\n",
    "print(\"-------------\")\n",
    "print(\"The parameters for optimized model are : \", grid_cv.best_params_)"
   ]
  },
  {
   "cell_type": "markdown",
   "id": "15a24ef1",
   "metadata": {
    "papermill": {
     "duration": 0.101092,
     "end_time": "2021-12-01T18:29:56.708644",
     "exception": false,
     "start_time": "2021-12-01T18:29:56.607552",
     "status": "completed"
    },
    "tags": []
   },
   "source": [
    "Thus, the model is finally optimised. "
   ]
  },
  {
   "cell_type": "markdown",
   "id": "892a828d",
   "metadata": {
    "papermill": {
     "duration": 0.102648,
     "end_time": "2021-12-01T18:29:56.913750",
     "exception": false,
     "start_time": "2021-12-01T18:29:56.811102",
     "status": "completed"
    },
    "tags": []
   },
   "source": [
    "### Final Optimized Model"
   ]
  },
  {
   "cell_type": "markdown",
   "id": "85dd5000",
   "metadata": {
    "papermill": {
     "duration": 0.101539,
     "end_time": "2021-12-01T18:29:57.117049",
     "exception": false,
     "start_time": "2021-12-01T18:29:57.015510",
     "status": "completed"
    },
    "tags": []
   },
   "source": [
    "The gradient boosting classifier is trained on the training data with the optimum hyperparameters. The final ROC-AUC score achieved on the test data after prediction is 0.8022."
   ]
  },
  {
   "cell_type": "code",
   "execution_count": 31,
   "id": "0de33c98",
   "metadata": {
    "execution": {
     "iopub.execute_input": "2021-12-01T18:29:57.323503Z",
     "iopub.status.busy": "2021-12-01T18:29:57.322883Z",
     "iopub.status.idle": "2021-12-01T18:30:25.890462Z",
     "shell.execute_reply": "2021-12-01T18:30:25.889940Z",
     "shell.execute_reply.started": "2021-12-01T16:37:10.595885Z"
    },
    "papermill": {
     "duration": 28.672075,
     "end_time": "2021-12-01T18:30:25.890613",
     "exception": false,
     "start_time": "2021-12-01T18:29:57.218538",
     "status": "completed"
    },
    "tags": []
   },
   "outputs": [
    {
     "name": "stdout",
     "output_type": "stream",
     "text": [
      "The AUC-ROC score for optimized Gradient Boosting Classifier on the Validation Dataset is  0.8022457859283849\n",
      "The AUC-ROC score for optimized Gradient Boosting Classifier on the Training Dataset is  0.854388635210553\n"
     ]
    }
   ],
   "source": [
    "#fitting gradient boosting classifiers with optimum parameters \n",
    "final_gbc_clf = GradientBoostingClassifier(random_state=random_state, learning_rate = 0.1 , n_estimators = 280 , max_depth = 6, min_samples_leaf = 50, \n",
    "                                           min_samples_split = 100, subsample = 0.8 )  \n",
    "final_gbc_clf.fit(x_train,y_train)\n",
    "final_pred_gbc_clf_val = final_gbc_clf.predict(x_val)\n",
    "final_pred_gbc_clf_train = final_gbc_clf.predict(x_train[:300])\n",
    "\n",
    "print(\"The AUC-ROC score for optimized Gradient Boosting Classifier on the Validation Dataset is \",roc_auc_score(y_val,final_pred_gbc_clf_val))\n",
    "print(\"The AUC-ROC score for optimized Gradient Boosting Classifier on the Training Dataset is \",roc_auc_score(y_train[:300],final_pred_gbc_clf_train))"
   ]
  },
  {
   "cell_type": "code",
   "execution_count": 32,
   "id": "ad290fa5",
   "metadata": {
    "execution": {
     "iopub.execute_input": "2021-12-01T18:30:26.099763Z",
     "iopub.status.busy": "2021-12-01T18:30:26.099102Z",
     "iopub.status.idle": "2021-12-01T18:30:26.198274Z",
     "shell.execute_reply": "2021-12-01T18:30:26.197713Z",
     "shell.execute_reply.started": "2021-12-01T16:37:39.891622Z"
    },
    "papermill": {
     "duration": 0.204633,
     "end_time": "2021-12-01T18:30:26.198422",
     "exception": false,
     "start_time": "2021-12-01T18:30:25.993789",
     "status": "completed"
    },
    "tags": []
   },
   "outputs": [
    {
     "name": "stdout",
     "output_type": "stream",
     "text": [
      "The AUC-ROC score for optimized Gradient Boosting Classifier on the Validation Dataset using probability  0.9313360299094338\n",
      "The AUC-ROC score for optimized Gradient Boosting Classifier on the Training Dataset using probability  0.9680365296803654\n"
     ]
    }
   ],
   "source": [
    "#ROC-AUC score using probabilities \n",
    "prob_val_gbc = final_gbc_clf.predict_proba(x_val)[:,1]\n",
    "prob_train_gbc = final_gbc_clf.predict_proba(x_train[:300])[:,1]\n",
    "\n",
    "print(\"The AUC-ROC score for optimized Gradient Boosting Classifier on the Validation Dataset using probability \",roc_auc_score(y_val,prob_val_gbc))\n",
    "print(\"The AUC-ROC score for optimized Gradient Boosting Classifier on the Training Dataset using probability \",roc_auc_score(y_train[:300],prob_train_gbc))"
   ]
  },
  {
   "cell_type": "markdown",
   "id": "23100912",
   "metadata": {
    "papermill": {
     "duration": 0.104355,
     "end_time": "2021-12-01T18:30:26.406476",
     "exception": false,
     "start_time": "2021-12-01T18:30:26.302121",
     "status": "completed"
    },
    "tags": []
   },
   "source": [
    "On predicting the outcome using predict_proba() method which gives the probability of the data point to belong to class label with value 1, we get a higher ROC-AUC score of 0.93 on the test data. \n",
    "The predict() method considers a default threshold of 0.5 for classification. So datapoints with probability > 0.5 are predicted to belong to class with label 1. \n",
    "Clearly this dataset is imbalanced, so the optimum threshold value needs to be calculated by plotting the ROC-AUC curves."
   ]
  },
  {
   "cell_type": "markdown",
   "id": "8eacc516",
   "metadata": {
    "papermill": {
     "duration": 0.103283,
     "end_time": "2021-12-01T18:30:26.612726",
     "exception": false,
     "start_time": "2021-12-01T18:30:26.509443",
     "status": "completed"
    },
    "tags": []
   },
   "source": [
    "******"
   ]
  },
  {
   "cell_type": "markdown",
   "id": "3e8023a7",
   "metadata": {
    "papermill": {
     "duration": 0.102911,
     "end_time": "2021-12-01T18:30:26.818419",
     "exception": false,
     "start_time": "2021-12-01T18:30:26.715508",
     "status": "completed"
    },
    "tags": []
   },
   "source": [
    "# Threshold Selection for Classification"
   ]
  },
  {
   "cell_type": "markdown",
   "id": "a18d0e70",
   "metadata": {
    "papermill": {
     "duration": 0.102062,
     "end_time": "2021-12-01T18:30:27.025051",
     "exception": false,
     "start_time": "2021-12-01T18:30:26.922989",
     "status": "completed"
    },
    "tags": []
   },
   "source": [
    "The ROC-AUC curve is plotted by finding the true positive rate (TPR) and false positive rate (FPR) for various threshold values for classification. The threshold value which has the maximum value of (TPR - FPR) indicates better ability to classify points to their correct labels."
   ]
  },
  {
   "cell_type": "code",
   "execution_count": 33,
   "id": "85468b11",
   "metadata": {
    "execution": {
     "iopub.execute_input": "2021-12-01T18:30:27.233443Z",
     "iopub.status.busy": "2021-12-01T18:30:27.232468Z",
     "iopub.status.idle": "2021-12-01T18:30:27.520157Z",
     "shell.execute_reply": "2021-12-01T18:30:27.520723Z",
     "shell.execute_reply.started": "2021-12-01T16:37:39.991134Z"
    },
    "papermill": {
     "duration": 0.39337,
     "end_time": "2021-12-01T18:30:27.520918",
     "exception": false,
     "start_time": "2021-12-01T18:30:27.127548",
     "status": "completed"
    },
    "tags": []
   },
   "outputs": [
    {
     "data": {
      "image/png": "[encoded data removed]",
      "text/plain": [
       "<Figure size 432x288 with 1 Axes>"
      ]
     },
     "metadata": {
      "image/png": {
       "height": 277,
       "width": 385
      },
      "needs_background": "light"
     },
     "output_type": "display_data"
    },
    {
     "name": "stdout",
     "output_type": "stream",
     "text": [
      "The ROC-AUC Score is  0.9313360299094338\n"
     ]
    }
   ],
   "source": [
    "#plotting roc-auc curve and finding optimum threshold for classification\n",
    "\n",
    "def plot_roc_curve(fpr, tpr):\n",
    "    plt.plot(fpr, tpr, color='orange', label='ROC')\n",
    "    plt.plot([0, 1], [0, 1], color='darkblue', linestyle='--')\n",
    "    plt.xlabel('False Positive Rate')\n",
    "    plt.ylabel('True Positive Rate')\n",
    "    plt.title('Receiver Operating Characteristic (ROC) Curve')\n",
    "    plt.legend()\n",
    "    plt.show()\n",
    "\n",
    "from sklearn.metrics import roc_curve\n",
    "fpr, tpr, thresholds = roc_curve(y_val, prob_val_gbc)\n",
    "\n",
    "plot_roc_curve(fpr,tpr)\n",
    "print(\"The ROC-AUC Score is \",roc_auc_score(y_val,prob_val_gbc))"
   ]
  },
  {
   "cell_type": "code",
   "execution_count": 34,
   "id": "766b3175",
   "metadata": {
    "execution": {
     "iopub.execute_input": "2021-12-01T18:30:27.736526Z",
     "iopub.status.busy": "2021-12-01T18:30:27.735751Z",
     "iopub.status.idle": "2021-12-01T18:30:27.739330Z",
     "shell.execute_reply": "2021-12-01T18:30:27.739893Z",
     "shell.execute_reply.started": "2021-12-01T16:37:40.265748Z"
    },
    "papermill": {
     "duration": 0.113961,
     "end_time": "2021-12-01T18:30:27.740064",
     "exception": false,
     "start_time": "2021-12-01T18:30:27.626103",
     "status": "completed"
    },
    "tags": []
   },
   "outputs": [
    {
     "name": "stdout",
     "output_type": "stream",
     "text": [
      "Threshold value is: 0.22850707046171875\n"
     ]
    }
   ],
   "source": [
    "optimal_idx = np.argmax(tpr-fpr)\n",
    "optimal_threshold = thresholds[optimal_idx]\n",
    "print(\"Threshold value is:\", optimal_threshold)"
   ]
  },
  {
   "cell_type": "markdown",
   "id": "9afad001",
   "metadata": {
    "papermill": {
     "duration": 0.105008,
     "end_time": "2021-12-01T18:30:27.948988",
     "exception": false,
     "start_time": "2021-12-01T18:30:27.843980",
     "status": "completed"
    },
    "tags": []
   },
   "source": [
    "The optimum threshold value is found to be 0.2285."
   ]
  },
  {
   "cell_type": "code",
   "execution_count": 35,
   "id": "813c7c7c",
   "metadata": {
    "execution": {
     "iopub.execute_input": "2021-12-01T18:30:28.169971Z",
     "iopub.status.busy": "2021-12-01T18:30:28.169231Z",
     "iopub.status.idle": "2021-12-01T18:30:28.175250Z",
     "shell.execute_reply": "2021-12-01T18:30:28.175858Z",
     "shell.execute_reply.started": "2021-12-01T16:37:40.274607Z"
    },
    "papermill": {
     "duration": 0.122207,
     "end_time": "2021-12-01T18:30:28.176034",
     "exception": false,
     "start_time": "2021-12-01T18:30:28.053827",
     "status": "completed"
    },
    "tags": []
   },
   "outputs": [
    {
     "data": {
      "text/plain": [
       "array([1., 0., 0., ..., 0., 0., 0.])"
      ]
     },
     "execution_count": 35,
     "metadata": {},
     "output_type": "execute_result"
    }
   ],
   "source": [
    "y_pred = prob_val_gbc.copy()\n",
    "for i in range(len(y_pred)):\n",
    "    if (y_pred[i] > optimal_threshold):\n",
    "        y_pred[i] = 1\n",
    "    else: \n",
    "        y_pred[i] = 0 \n",
    "y_pred"
   ]
  },
  {
   "cell_type": "markdown",
   "id": "4786548e",
   "metadata": {
    "papermill": {
     "duration": 0.1088,
     "end_time": "2021-12-01T18:30:28.390764",
     "exception": false,
     "start_time": "2021-12-01T18:30:28.281964",
     "status": "completed"
    },
    "tags": []
   },
   "source": [
    "Data points with probabilities > optimum threshold will be considered to belong to the class with value 1."
   ]
  },
  {
   "cell_type": "code",
   "execution_count": 36,
   "id": "38809985",
   "metadata": {
    "execution": {
     "iopub.execute_input": "2021-12-01T18:30:28.609870Z",
     "iopub.status.busy": "2021-12-01T18:30:28.609177Z",
     "iopub.status.idle": "2021-12-01T18:30:28.615688Z",
     "shell.execute_reply": "2021-12-01T18:30:28.616405Z",
     "shell.execute_reply.started": "2021-12-01T16:37:40.290525Z"
    },
    "papermill": {
     "duration": 0.119385,
     "end_time": "2021-12-01T18:30:28.616634",
     "exception": false,
     "start_time": "2021-12-01T18:30:28.497249",
     "status": "completed"
    },
    "tags": []
   },
   "outputs": [
    {
     "name": "stdout",
     "output_type": "stream",
     "text": [
      "The ROC-AUC Score achieved by selecting the optimum threshold for classification is 0.8459610983981694\n"
     ]
    }
   ],
   "source": [
    "print(\"The ROC-AUC Score achieved by selecting the optimum threshold for classification is\" ,roc_auc_score(y_val,y_pred))"
   ]
  },
  {
   "cell_type": "markdown",
   "id": "3db876cf",
   "metadata": {
    "papermill": {
     "duration": 0.1074,
     "end_time": "2021-12-01T18:30:28.829573",
     "exception": false,
     "start_time": "2021-12-01T18:30:28.722173",
     "status": "completed"
    },
    "tags": []
   },
   "source": [
    "******"
   ]
  },
  {
   "cell_type": "markdown",
   "id": "3bd83635",
   "metadata": {
    "papermill": {
     "duration": 0.107926,
     "end_time": "2021-12-01T18:30:29.046487",
     "exception": false,
     "start_time": "2021-12-01T18:30:28.938561",
     "status": "completed"
    },
    "tags": []
   },
   "source": [
    "# Processing of Test Data"
   ]
  },
  {
   "cell_type": "code",
   "execution_count": 37,
   "id": "15dffac6",
   "metadata": {
    "execution": {
     "iopub.execute_input": "2021-12-01T18:30:29.263440Z",
     "iopub.status.busy": "2021-12-01T18:30:29.262740Z",
     "iopub.status.idle": "2021-12-01T18:30:29.499065Z",
     "shell.execute_reply": "2021-12-01T18:30:29.498490Z",
     "shell.execute_reply.started": "2021-12-01T16:37:40.323017Z"
    },
    "papermill": {
     "duration": 0.345227,
     "end_time": "2021-12-01T18:30:29.499222",
     "exception": false,
     "start_time": "2021-12-01T18:30:29.153995",
     "status": "completed"
    },
    "tags": []
   },
   "outputs": [
    {
     "data": {
      "text/html": [
       "<div>\n",
       "<style scoped>\n",
       "    .dataframe tbody tr th:only-of-type {\n",
       "        vertical-align: middle;\n",
       "    }\n",
       "\n",
       "    .dataframe tbody tr th {\n",
       "        vertical-align: top;\n",
       "    }\n",
       "\n",
       "    .dataframe thead th {\n",
       "        text-align: right;\n",
       "    }\n",
       "</style>\n",
       "<table border=\"1\" class=\"dataframe\">\n",
       "  <thead>\n",
       "    <tr style=\"text-align: right;\">\n",
       "      <th></th>\n",
       "      <th>age</th>\n",
       "      <th>workclass</th>\n",
       "      <th>education_level</th>\n",
       "      <th>education-num</th>\n",
       "      <th>marital-status</th>\n",
       "      <th>occupation</th>\n",
       "      <th>relationship</th>\n",
       "      <th>race</th>\n",
       "      <th>sex</th>\n",
       "      <th>capital-gain</th>\n",
       "      <th>capital-loss</th>\n",
       "      <th>hours-per-week</th>\n",
       "      <th>native-country</th>\n",
       "    </tr>\n",
       "  </thead>\n",
       "  <tbody>\n",
       "    <tr>\n",
       "      <th>0</th>\n",
       "      <td>21.0</td>\n",
       "      <td>Private</td>\n",
       "      <td>10th</td>\n",
       "      <td>6.0</td>\n",
       "      <td>Married-civ-spouse</td>\n",
       "      <td>Craft-repair</td>\n",
       "      <td>Husband</td>\n",
       "      <td>White</td>\n",
       "      <td>Male</td>\n",
       "      <td>0.0</td>\n",
       "      <td>0.0</td>\n",
       "      <td>40.0</td>\n",
       "      <td>United-States</td>\n",
       "    </tr>\n",
       "    <tr>\n",
       "      <th>1</th>\n",
       "      <td>49.0</td>\n",
       "      <td>Private</td>\n",
       "      <td>Bachelors</td>\n",
       "      <td>13.0</td>\n",
       "      <td>Married-civ-spouse</td>\n",
       "      <td>Adm-clerical</td>\n",
       "      <td>Wife</td>\n",
       "      <td>White</td>\n",
       "      <td>Female</td>\n",
       "      <td>0.0</td>\n",
       "      <td>0.0</td>\n",
       "      <td>40.0</td>\n",
       "      <td>United-States</td>\n",
       "    </tr>\n",
       "    <tr>\n",
       "      <th>2</th>\n",
       "      <td>44.0</td>\n",
       "      <td>Self-emp-not-inc</td>\n",
       "      <td>Assoc-acdm</td>\n",
       "      <td>12.0</td>\n",
       "      <td>Married-civ-spouse</td>\n",
       "      <td>Other-service</td>\n",
       "      <td>Wife</td>\n",
       "      <td>White</td>\n",
       "      <td>Female</td>\n",
       "      <td>0.0</td>\n",
       "      <td>0.0</td>\n",
       "      <td>99.0</td>\n",
       "      <td>United-States</td>\n",
       "    </tr>\n",
       "    <tr>\n",
       "      <th>3</th>\n",
       "      <td>34.0</td>\n",
       "      <td>Private</td>\n",
       "      <td>Bachelors</td>\n",
       "      <td>13.0</td>\n",
       "      <td>Married-civ-spouse</td>\n",
       "      <td>Sales</td>\n",
       "      <td>Husband</td>\n",
       "      <td>White</td>\n",
       "      <td>Male</td>\n",
       "      <td>7298.0</td>\n",
       "      <td>0.0</td>\n",
       "      <td>46.0</td>\n",
       "      <td>United-States</td>\n",
       "    </tr>\n",
       "    <tr>\n",
       "      <th>4</th>\n",
       "      <td>24.0</td>\n",
       "      <td>Private</td>\n",
       "      <td>HS-grad</td>\n",
       "      <td>9.0</td>\n",
       "      <td>Married-civ-spouse</td>\n",
       "      <td>Machine-op-inspct</td>\n",
       "      <td>Husband</td>\n",
       "      <td>White</td>\n",
       "      <td>Male</td>\n",
       "      <td>0.0</td>\n",
       "      <td>0.0</td>\n",
       "      <td>40.0</td>\n",
       "      <td>United-States</td>\n",
       "    </tr>\n",
       "  </tbody>\n",
       "</table>\n",
       "</div>"
      ],
      "text/plain": [
       "    age          workclass education_level  education-num  \\\n",
       "0  21.0            Private            10th            6.0   \n",
       "1  49.0            Private       Bachelors           13.0   \n",
       "2  44.0   Self-emp-not-inc      Assoc-acdm           12.0   \n",
       "3  34.0            Private       Bachelors           13.0   \n",
       "4  24.0            Private         HS-grad            9.0   \n",
       "\n",
       "        marital-status          occupation relationship    race      sex  \\\n",
       "0   Married-civ-spouse        Craft-repair      Husband   White     Male   \n",
       "1   Married-civ-spouse        Adm-clerical         Wife   White   Female   \n",
       "2   Married-civ-spouse       Other-service         Wife   White   Female   \n",
       "3   Married-civ-spouse               Sales      Husband   White     Male   \n",
       "4   Married-civ-spouse   Machine-op-inspct      Husband   White     Male   \n",
       "\n",
       "   capital-gain  capital-loss  hours-per-week  native-country  \n",
       "0           0.0           0.0            40.0   United-States  \n",
       "1           0.0           0.0            40.0   United-States  \n",
       "2           0.0           0.0            99.0   United-States  \n",
       "3        7298.0           0.0            46.0   United-States  \n",
       "4           0.0           0.0            40.0   United-States  "
      ]
     },
     "execution_count": 37,
     "metadata": {},
     "output_type": "execute_result"
    }
   ],
   "source": [
    "#procesing test data\n",
    "scale_features = ['age','education-num','capital-gain','capital-loss','hours-per-week']\n",
    "encoded_features = ['workclass','marital-status','occupation','relationship','race','sex','native-country']\n",
    "\n",
    "test_data = pd.read_csv('test_census.csv')\n",
    "test_data.drop(['Unnamed: 0'],axis=1,inplace = True)\n",
    "test_data.head()"
   ]
  },
  {
   "cell_type": "code",
   "execution_count": 38,
   "id": "d6c4e15c",
   "metadata": {
    "execution": {
     "iopub.execute_input": "2021-12-01T18:30:29.716069Z",
     "iopub.status.busy": "2021-12-01T18:30:29.715062Z",
     "iopub.status.idle": "2021-12-01T18:30:29.762863Z",
     "shell.execute_reply": "2021-12-01T18:30:29.762318Z",
     "shell.execute_reply.started": "2021-12-01T16:37:40.524001Z"
    },
    "papermill": {
     "duration": 0.158604,
     "end_time": "2021-12-01T18:30:29.763015",
     "exception": false,
     "start_time": "2021-12-01T18:30:29.604411",
     "status": "completed"
    },
    "tags": []
   },
   "outputs": [
    {
     "data": {
      "text/plain": [
       "age                17\n",
       "workclass          22\n",
       "education_level    20\n",
       "education-num      14\n",
       "marital-status     21\n",
       "occupation         22\n",
       "relationship       16\n",
       "race               19\n",
       "sex                19\n",
       "capital-gain       15\n",
       "capital-loss       17\n",
       "hours-per-week     13\n",
       "native-country     16\n",
       "dtype: int64"
      ]
     },
     "execution_count": 38,
     "metadata": {},
     "output_type": "execute_result"
    }
   ],
   "source": [
    "test_data.isnull().sum()"
   ]
  },
  {
   "cell_type": "markdown",
   "id": "39bba3ef",
   "metadata": {
    "papermill": {
     "duration": 0.105959,
     "end_time": "2021-12-01T18:30:29.975149",
     "exception": false,
     "start_time": "2021-12-01T18:30:29.869190",
     "status": "completed"
    },
    "tags": []
   },
   "source": [
    "In the test dataset, we observe missing values for the above attributes. The missing values are imputed using median for skewed features like captial_loss and capital_gain. For continous attributes, the mean is used for replacing null points and categorical features are filled using the most frequent occuring value for the feature."
   ]
  },
  {
   "cell_type": "code",
   "execution_count": 39,
   "id": "80bfb0ab",
   "metadata": {
    "execution": {
     "iopub.execute_input": "2021-12-01T18:30:30.193341Z",
     "iopub.status.busy": "2021-12-01T18:30:30.192659Z",
     "iopub.status.idle": "2021-12-01T18:30:30.612740Z",
     "shell.execute_reply": "2021-12-01T18:30:30.613273Z",
     "shell.execute_reply.started": "2021-12-01T16:37:40.553733Z"
    },
    "papermill": {
     "duration": 0.531368,
     "end_time": "2021-12-01T18:30:30.613446",
     "exception": false,
     "start_time": "2021-12-01T18:30:30.082078",
     "status": "completed"
    },
    "tags": []
   },
   "outputs": [
    {
     "data": {
      "text/plain": [
       "age                0\n",
       "workclass          0\n",
       "education_level    0\n",
       "education-num      0\n",
       "marital-status     0\n",
       "occupation         0\n",
       "relationship       0\n",
       "race               0\n",
       "sex                0\n",
       "capital-gain       0\n",
       "capital-loss       0\n",
       "hours-per-week     0\n",
       "native-country     0\n",
       "dtype: int64"
      ]
     },
     "execution_count": 39,
     "metadata": {},
     "output_type": "execute_result"
    }
   ],
   "source": [
    "#filling missing values\n",
    "for col in ['age','education-num','hours-per-week']:\n",
    "    test_data[col] = test_data[col].fillna(train_data[col].mean())\n",
    "    \n",
    "for col in ['capital-gain','capital-loss']:\n",
    "    test_data[col] = test_data[col].fillna(train_data[col].median())\n",
    "    \n",
    "for col in ['workclass','education_level','marital-status','occupation','relationship','race','sex','native-country']:\n",
    "    test_data[col]= test_data[col].fillna(train_data.groupby([col])[col].count().sort_values(ascending=False).index[0])\n",
    "    \n",
    "test_data.isnull().sum()"
   ]
  },
  {
   "cell_type": "markdown",
   "id": "788c289a",
   "metadata": {
    "papermill": {
     "duration": 0.115945,
     "end_time": "2021-12-01T18:30:30.836998",
     "exception": false,
     "start_time": "2021-12-01T18:30:30.721053",
     "status": "completed"
    },
    "tags": []
   },
   "source": [
    "Similar, transformation and prcessing is applied to the test dataset as the train dataset."
   ]
  },
  {
   "cell_type": "code",
   "execution_count": 40,
   "id": "07b6e7d8",
   "metadata": {
    "execution": {
     "iopub.execute_input": "2021-12-01T18:30:31.065428Z",
     "iopub.status.busy": "2021-12-01T18:30:31.064607Z",
     "iopub.status.idle": "2021-12-01T18:30:31.347084Z",
     "shell.execute_reply": "2021-12-01T18:30:31.347617Z",
     "shell.execute_reply.started": "2021-12-01T16:37:40.668134Z"
    },
    "papermill": {
     "duration": 0.395402,
     "end_time": "2021-12-01T18:30:31.347801",
     "exception": false,
     "start_time": "2021-12-01T18:30:30.952399",
     "status": "completed"
    },
    "tags": []
   },
   "outputs": [
    {
     "data": {
      "text/html": [
       "<div>\n",
       "<style scoped>\n",
       "    .dataframe tbody tr th:only-of-type {\n",
       "        vertical-align: middle;\n",
       "    }\n",
       "\n",
       "    .dataframe tbody tr th {\n",
       "        vertical-align: top;\n",
       "    }\n",
       "\n",
       "    .dataframe thead th {\n",
       "        text-align: right;\n",
       "    }\n",
       "</style>\n",
       "<table border=\"1\" class=\"dataframe\">\n",
       "  <thead>\n",
       "    <tr style=\"text-align: right;\">\n",
       "      <th></th>\n",
       "      <th>age</th>\n",
       "      <th>education-num</th>\n",
       "      <th>capital-gain</th>\n",
       "      <th>capital-loss</th>\n",
       "      <th>hours-per-week</th>\n",
       "      <th>workclass_ Local-gov</th>\n",
       "      <th>workclass_ Private</th>\n",
       "      <th>workclass_ Self-emp-inc</th>\n",
       "      <th>workclass_ Self-emp-not-inc</th>\n",
       "      <th>workclass_ State-gov</th>\n",
       "      <th>...</th>\n",
       "      <th>native-country_ Portugal</th>\n",
       "      <th>native-country_ Puerto-Rico</th>\n",
       "      <th>native-country_ Scotland</th>\n",
       "      <th>native-country_ South</th>\n",
       "      <th>native-country_ Taiwan</th>\n",
       "      <th>native-country_ Thailand</th>\n",
       "      <th>native-country_ Trinadad&amp;Tobago</th>\n",
       "      <th>native-country_ United-States</th>\n",
       "      <th>native-country_ Vietnam</th>\n",
       "      <th>native-country_ Yugoslavia</th>\n",
       "    </tr>\n",
       "  </thead>\n",
       "  <tbody>\n",
       "    <tr>\n",
       "      <th>0</th>\n",
       "      <td>0.054795</td>\n",
       "      <td>0.333333</td>\n",
       "      <td>0.000000</td>\n",
       "      <td>0.0</td>\n",
       "      <td>0.397959</td>\n",
       "      <td>0</td>\n",
       "      <td>1</td>\n",
       "      <td>0</td>\n",
       "      <td>0</td>\n",
       "      <td>0</td>\n",
       "      <td>...</td>\n",
       "      <td>0</td>\n",
       "      <td>0</td>\n",
       "      <td>0</td>\n",
       "      <td>0</td>\n",
       "      <td>0</td>\n",
       "      <td>0</td>\n",
       "      <td>0</td>\n",
       "      <td>1</td>\n",
       "      <td>0</td>\n",
       "      <td>0</td>\n",
       "    </tr>\n",
       "    <tr>\n",
       "      <th>1</th>\n",
       "      <td>0.438356</td>\n",
       "      <td>0.800000</td>\n",
       "      <td>0.000000</td>\n",
       "      <td>0.0</td>\n",
       "      <td>0.397959</td>\n",
       "      <td>0</td>\n",
       "      <td>1</td>\n",
       "      <td>0</td>\n",
       "      <td>0</td>\n",
       "      <td>0</td>\n",
       "      <td>...</td>\n",
       "      <td>0</td>\n",
       "      <td>0</td>\n",
       "      <td>0</td>\n",
       "      <td>0</td>\n",
       "      <td>0</td>\n",
       "      <td>0</td>\n",
       "      <td>0</td>\n",
       "      <td>1</td>\n",
       "      <td>0</td>\n",
       "      <td>0</td>\n",
       "    </tr>\n",
       "    <tr>\n",
       "      <th>2</th>\n",
       "      <td>0.369863</td>\n",
       "      <td>0.733333</td>\n",
       "      <td>0.000000</td>\n",
       "      <td>0.0</td>\n",
       "      <td>1.000000</td>\n",
       "      <td>0</td>\n",
       "      <td>0</td>\n",
       "      <td>0</td>\n",
       "      <td>1</td>\n",
       "      <td>0</td>\n",
       "      <td>...</td>\n",
       "      <td>0</td>\n",
       "      <td>0</td>\n",
       "      <td>0</td>\n",
       "      <td>0</td>\n",
       "      <td>0</td>\n",
       "      <td>0</td>\n",
       "      <td>0</td>\n",
       "      <td>1</td>\n",
       "      <td>0</td>\n",
       "      <td>0</td>\n",
       "    </tr>\n",
       "    <tr>\n",
       "      <th>3</th>\n",
       "      <td>0.232877</td>\n",
       "      <td>0.800000</td>\n",
       "      <td>0.772653</td>\n",
       "      <td>0.0</td>\n",
       "      <td>0.459184</td>\n",
       "      <td>0</td>\n",
       "      <td>1</td>\n",
       "      <td>0</td>\n",
       "      <td>0</td>\n",
       "      <td>0</td>\n",
       "      <td>...</td>\n",
       "      <td>0</td>\n",
       "      <td>0</td>\n",
       "      <td>0</td>\n",
       "      <td>0</td>\n",
       "      <td>0</td>\n",
       "      <td>0</td>\n",
       "      <td>0</td>\n",
       "      <td>1</td>\n",
       "      <td>0</td>\n",
       "      <td>0</td>\n",
       "    </tr>\n",
       "    <tr>\n",
       "      <th>4</th>\n",
       "      <td>0.095890</td>\n",
       "      <td>0.533333</td>\n",
       "      <td>0.000000</td>\n",
       "      <td>0.0</td>\n",
       "      <td>0.397959</td>\n",
       "      <td>0</td>\n",
       "      <td>1</td>\n",
       "      <td>0</td>\n",
       "      <td>0</td>\n",
       "      <td>0</td>\n",
       "      <td>...</td>\n",
       "      <td>0</td>\n",
       "      <td>0</td>\n",
       "      <td>0</td>\n",
       "      <td>0</td>\n",
       "      <td>0</td>\n",
       "      <td>0</td>\n",
       "      <td>0</td>\n",
       "      <td>1</td>\n",
       "      <td>0</td>\n",
       "      <td>0</td>\n",
       "    </tr>\n",
       "  </tbody>\n",
       "</table>\n",
       "<p>5 rows × 80 columns</p>\n",
       "</div>"
      ],
      "text/plain": [
       "        age  education-num  capital-gain  capital-loss  hours-per-week  \\\n",
       "0  0.054795       0.333333      0.000000           0.0        0.397959   \n",
       "1  0.438356       0.800000      0.000000           0.0        0.397959   \n",
       "2  0.369863       0.733333      0.000000           0.0        1.000000   \n",
       "3  0.232877       0.800000      0.772653           0.0        0.459184   \n",
       "4  0.095890       0.533333      0.000000           0.0        0.397959   \n",
       "\n",
       "   workclass_ Local-gov  workclass_ Private  workclass_ Self-emp-inc  \\\n",
       "0                     0                   1                        0   \n",
       "1                     0                   1                        0   \n",
       "2                     0                   0                        0   \n",
       "3                     0                   1                        0   \n",
       "4                     0                   1                        0   \n",
       "\n",
       "   workclass_ Self-emp-not-inc  workclass_ State-gov  ...  \\\n",
       "0                            0                     0  ...   \n",
       "1                            0                     0  ...   \n",
       "2                            1                     0  ...   \n",
       "3                            0                     0  ...   \n",
       "4                            0                     0  ...   \n",
       "\n",
       "   native-country_ Portugal  native-country_ Puerto-Rico  \\\n",
       "0                         0                            0   \n",
       "1                         0                            0   \n",
       "2                         0                            0   \n",
       "3                         0                            0   \n",
       "4                         0                            0   \n",
       "\n",
       "   native-country_ Scotland  native-country_ South  native-country_ Taiwan  \\\n",
       "0                         0                      0                       0   \n",
       "1                         0                      0                       0   \n",
       "2                         0                      0                       0   \n",
       "3                         0                      0                       0   \n",
       "4                         0                      0                       0   \n",
       "\n",
       "   native-country_ Thailand  native-country_ Trinadad&Tobago  \\\n",
       "0                         0                                0   \n",
       "1                         0                                0   \n",
       "2                         0                                0   \n",
       "3                         0                                0   \n",
       "4                         0                                0   \n",
       "\n",
       "   native-country_ United-States  native-country_ Vietnam  \\\n",
       "0                              1                        0   \n",
       "1                              1                        0   \n",
       "2                              1                        0   \n",
       "3                              1                        0   \n",
       "4                              1                        0   \n",
       "\n",
       "   native-country_ Yugoslavia  \n",
       "0                           0  \n",
       "1                           0  \n",
       "2                           0  \n",
       "3                           0  \n",
       "4                           0  \n",
       "\n",
       "[5 rows x 80 columns]"
      ]
     },
     "execution_count": 40,
     "metadata": {},
     "output_type": "execute_result"
    }
   ],
   "source": [
    "test_data.drop(['education_level'],axis=1,inplace = True)\n",
    "test_data['capital-gain']=test_data['capital-gain'].apply(lambda x: np.log(x+1))\n",
    "test_data['capital-loss']=test_data['capital-loss'].apply(lambda x: np.log(x+1))\n",
    "test_data[scale_features] = scaler.transform(test_data[scale_features])\n",
    "test_data = pd.get_dummies(test_data,columns = encoded_features ,prefix = encoded_features, drop_first=True)\n",
    "test_data.head()"
   ]
  },
  {
   "cell_type": "markdown",
   "id": "2077b241",
   "metadata": {
    "papermill": {
     "duration": 0.107516,
     "end_time": "2021-12-01T18:30:31.562875",
     "exception": false,
     "start_time": "2021-12-01T18:30:31.455359",
     "status": "completed"
    },
    "tags": []
   },
   "source": [
    "****"
   ]
  },
  {
   "cell_type": "markdown",
   "id": "172002a3",
   "metadata": {
    "papermill": {
     "duration": 0.108884,
     "end_time": "2021-12-01T18:30:31.779791",
     "exception": false,
     "start_time": "2021-12-01T18:30:31.670907",
     "status": "completed"
    },
    "tags": []
   },
   "source": [
    "# Prediction for Test Data & Submission"
   ]
  },
  {
   "cell_type": "markdown",
   "id": "689ac54f",
   "metadata": {
    "papermill": {
     "duration": 0.106593,
     "end_time": "2021-12-01T18:30:31.993554",
     "exception": false,
     "start_time": "2021-12-01T18:30:31.886961",
     "status": "completed"
    },
    "tags": []
   },
   "source": [
    "The optimized gradient boosting classifier is used for prediction of probabilites for datapoints to belong to class with value 1. The optimum threshold value obtained earlier is used for classification to correct labels."
   ]
  },
  {
   "cell_type": "code",
   "execution_count": 41,
   "id": "eea45ea3",
   "metadata": {
    "execution": {
     "iopub.execute_input": "2021-12-01T18:30:32.218197Z",
     "iopub.status.busy": "2021-12-01T18:30:32.217498Z",
     "iopub.status.idle": "2021-12-01T18:30:33.322074Z",
     "shell.execute_reply": "2021-12-01T18:30:33.322621Z",
     "shell.execute_reply.started": "2021-12-01T16:37:40.850184Z"
    },
    "papermill": {
     "duration": 1.219715,
     "end_time": "2021-12-01T18:30:33.322797",
     "exception": false,
     "start_time": "2021-12-01T18:30:32.103082",
     "status": "completed"
    },
    "tags": []
   },
   "outputs": [
    {
     "data": {
      "text/plain": [
       "array([0., 1., 0., ..., 0., 1., 0.])"
      ]
     },
     "execution_count": 41,
     "metadata": {},
     "output_type": "execute_result"
    }
   ],
   "source": [
    "#predicting on test dataset \n",
    "pred_test = final_gbc_clf.predict(test_data)\n",
    "prob_test = final_gbc_clf.predict_proba(test_data)[:,1]\n",
    "\n",
    "\n",
    "submission_pred = prob_test.copy()\n",
    "for i in range(len(submission_pred)):\n",
    "    if (submission_pred[i] > optimal_threshold):\n",
    "        submission_pred[i] = int(1)\n",
    "    else: \n",
    "        submission_pred[i] = int(0) \n",
    "submission_pred"
   ]
  },
  {
   "cell_type": "markdown",
   "id": "0562804b",
   "metadata": {
    "papermill": {
     "duration": 0.107072,
     "end_time": "2021-12-01T18:30:33.543064",
     "exception": false,
     "start_time": "2021-12-01T18:30:33.435992",
     "status": "completed"
    },
    "tags": []
   },
   "source": [
    "The submission dataset is prepared."
   ]
  },
  {
   "cell_type": "code",
   "execution_count": 42,
   "id": "6b420df4",
   "metadata": {
    "execution": {
     "iopub.execute_input": "2021-12-01T18:30:33.768833Z",
     "iopub.status.busy": "2021-12-01T18:30:33.767320Z",
     "iopub.status.idle": "2021-12-01T18:30:33.883231Z",
     "shell.execute_reply": "2021-12-01T18:30:33.882601Z",
     "shell.execute_reply.started": "2021-12-01T16:37:41.863852Z"
    },
    "papermill": {
     "duration": 0.230742,
     "end_time": "2021-12-01T18:30:33.883381",
     "exception": false,
     "start_time": "2021-12-01T18:30:33.652639",
     "status": "completed"
    },
    "tags": []
   },
   "outputs": [],
   "source": [
    "submission_df = pd.DataFrame(data=submission_pred)\n",
    "submission_df.reset_index(inplace=True)\n",
    "submission_df.columns = ['id','income']\n",
    "submission_df.to_csv(\"submission.csv\", index=False)"
   ]
  }
 ],
 "metadata": {
  "kernelspec": {
   "display_name": "Python 3 (ipykernel)",
   "language": "python",
   "name": "python3"
  },
  "language_info": {
   "codemirror_mode": {
    "name": "ipython",
    "version": 3
   },
   "file_extension": ".py",
   "mimetype": "text/x-python",
   "name": "python",
   "nbconvert_exporter": "python",
   "pygments_lexer": "ipython3",
   "version": "3.8.3"
  },
  "papermill": {
   "default_parameters": {},
   "duration": 1708.32603,
   "end_time": "2021-12-01T18:30:34.908974",
   "environment_variables": {},
   "exception": null,
   "input_path": "__notebook__.ipynb",
   "output_path": "__notebook__.ipynb",
   "parameters": {},
   "start_time": "2021-12-01T18:02:06.582944",
   "version": "2.3.3"
  }
 },
 "nbformat": 4,
 "nbformat_minor": 5
}
